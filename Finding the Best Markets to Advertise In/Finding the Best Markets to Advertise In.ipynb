{
 "cells": [
  {
   "cell_type": "markdown",
   "metadata": {},
   "source": [
    "# Finding the Best Markets to Advertise In"
   ]
  },
  {
   "cell_type": "markdown",
   "metadata": {},
   "source": [
    "In this guided project on [Dataquest](https://www.dataquest.io/m/310-guided-project-finding-the-best-markets-to-advertise-in/), we will work on survey data from [new coders](https://www.freecodecamp.org/news/we-asked-20-000-people-who-they-are-and-how-theyre-learning-to-code-fff5d668969/) to find the best two markets to advertise in. \n",
    "\n",
    "We assume that we'are working for an e-learning company that offers courses on programming. Most of our courses are on web and mobile development, but we also cover many other domains. We want to promote our product and we'd like to invest some money in advertisement. Our goal in this project is to find out the two best markets to advertise our product in.\n",
    "\n",
    "\n",
    "For the purpose of our analysis, we want to answer questions about a population of new coders that are interested in the subjects we teach. We'd like to know:\n",
    "- Where are these new coders located.\n",
    "- What are the locations with the greatest number of new coders.\n",
    "- How much money new coders are willing to spend on learning."
   ]
  },
  {
   "cell_type": "code",
   "execution_count": 1,
   "metadata": {},
   "outputs": [],
   "source": [
    "import pandas as pd\n",
    "import numpy as np\n",
    "import matplotlib.pyplot as plt\n",
    "%matplotlib inline\n",
    "import re"
   ]
  },
  {
   "cell_type": "markdown",
   "metadata": {},
   "source": [
    "## Understanding the Data\n",
    "\n",
    "we will:\n",
    "- read in the data file.\n",
    "- look for number of rows and columns.\n",
    "- print the first couple of rows.\n",
    "- find relevant columns for the purpose of our analysis.\n",
    "- try to understand what each column descirbes."
   ]
  },
  {
   "cell_type": "code",
   "execution_count": 2,
   "metadata": {},
   "outputs": [],
   "source": [
    "new_coders_survey = pd.read_csv('2017-fCC-New-Coders-Survey-Data.csv',low_memory = False)"
   ]
  },
  {
   "cell_type": "code",
   "execution_count": 3,
   "metadata": {},
   "outputs": [
    {
     "name": "stdout",
     "output_type": "stream",
     "text": [
      "There are 18175 rows and 136 columns.\n"
     ]
    }
   ],
   "source": [
    "print('There are ' + str(new_coders_survey.shape[0]) +' rows and '+ str(new_coders_survey.shape[1]) + ' columns.')"
   ]
  },
  {
   "cell_type": "code",
   "execution_count": 4,
   "metadata": {},
   "outputs": [
    {
     "data": {
      "text/html": [
       "<div>\n",
       "<style scoped>\n",
       "    .dataframe tbody tr th:only-of-type {\n",
       "        vertical-align: middle;\n",
       "    }\n",
       "\n",
       "    .dataframe tbody tr th {\n",
       "        vertical-align: top;\n",
       "    }\n",
       "\n",
       "    .dataframe thead th {\n",
       "        text-align: right;\n",
       "    }\n",
       "</style>\n",
       "<table border=\"1\" class=\"dataframe\">\n",
       "  <thead>\n",
       "    <tr style=\"text-align: right;\">\n",
       "      <th></th>\n",
       "      <th>Age</th>\n",
       "      <th>AttendedBootcamp</th>\n",
       "      <th>BootcampFinish</th>\n",
       "      <th>BootcampLoanYesNo</th>\n",
       "      <th>BootcampName</th>\n",
       "      <th>BootcampRecommend</th>\n",
       "      <th>ChildrenNumber</th>\n",
       "      <th>CityPopulation</th>\n",
       "      <th>CodeEventConferences</th>\n",
       "      <th>CodeEventDjangoGirls</th>\n",
       "      <th>...</th>\n",
       "      <th>YouTubeFCC</th>\n",
       "      <th>YouTubeFunFunFunction</th>\n",
       "      <th>YouTubeGoogleDev</th>\n",
       "      <th>YouTubeLearnCode</th>\n",
       "      <th>YouTubeLevelUpTuts</th>\n",
       "      <th>YouTubeMIT</th>\n",
       "      <th>YouTubeMozillaHacks</th>\n",
       "      <th>YouTubeOther</th>\n",
       "      <th>YouTubeSimplilearn</th>\n",
       "      <th>YouTubeTheNewBoston</th>\n",
       "    </tr>\n",
       "  </thead>\n",
       "  <tbody>\n",
       "    <tr>\n",
       "      <th>0</th>\n",
       "      <td>27.0</td>\n",
       "      <td>0.0</td>\n",
       "      <td>NaN</td>\n",
       "      <td>NaN</td>\n",
       "      <td>NaN</td>\n",
       "      <td>NaN</td>\n",
       "      <td>NaN</td>\n",
       "      <td>more than 1 million</td>\n",
       "      <td>NaN</td>\n",
       "      <td>NaN</td>\n",
       "      <td>...</td>\n",
       "      <td>NaN</td>\n",
       "      <td>NaN</td>\n",
       "      <td>NaN</td>\n",
       "      <td>NaN</td>\n",
       "      <td>NaN</td>\n",
       "      <td>NaN</td>\n",
       "      <td>NaN</td>\n",
       "      <td>NaN</td>\n",
       "      <td>NaN</td>\n",
       "      <td>NaN</td>\n",
       "    </tr>\n",
       "    <tr>\n",
       "      <th>1</th>\n",
       "      <td>34.0</td>\n",
       "      <td>0.0</td>\n",
       "      <td>NaN</td>\n",
       "      <td>NaN</td>\n",
       "      <td>NaN</td>\n",
       "      <td>NaN</td>\n",
       "      <td>NaN</td>\n",
       "      <td>less than 100,000</td>\n",
       "      <td>NaN</td>\n",
       "      <td>NaN</td>\n",
       "      <td>...</td>\n",
       "      <td>1.0</td>\n",
       "      <td>NaN</td>\n",
       "      <td>NaN</td>\n",
       "      <td>NaN</td>\n",
       "      <td>NaN</td>\n",
       "      <td>NaN</td>\n",
       "      <td>NaN</td>\n",
       "      <td>NaN</td>\n",
       "      <td>NaN</td>\n",
       "      <td>NaN</td>\n",
       "    </tr>\n",
       "    <tr>\n",
       "      <th>2</th>\n",
       "      <td>21.0</td>\n",
       "      <td>0.0</td>\n",
       "      <td>NaN</td>\n",
       "      <td>NaN</td>\n",
       "      <td>NaN</td>\n",
       "      <td>NaN</td>\n",
       "      <td>NaN</td>\n",
       "      <td>more than 1 million</td>\n",
       "      <td>NaN</td>\n",
       "      <td>NaN</td>\n",
       "      <td>...</td>\n",
       "      <td>NaN</td>\n",
       "      <td>NaN</td>\n",
       "      <td>NaN</td>\n",
       "      <td>1.0</td>\n",
       "      <td>1.0</td>\n",
       "      <td>NaN</td>\n",
       "      <td>NaN</td>\n",
       "      <td>NaN</td>\n",
       "      <td>NaN</td>\n",
       "      <td>NaN</td>\n",
       "    </tr>\n",
       "    <tr>\n",
       "      <th>3</th>\n",
       "      <td>26.0</td>\n",
       "      <td>0.0</td>\n",
       "      <td>NaN</td>\n",
       "      <td>NaN</td>\n",
       "      <td>NaN</td>\n",
       "      <td>NaN</td>\n",
       "      <td>NaN</td>\n",
       "      <td>between 100,000 and 1 million</td>\n",
       "      <td>NaN</td>\n",
       "      <td>NaN</td>\n",
       "      <td>...</td>\n",
       "      <td>1.0</td>\n",
       "      <td>1.0</td>\n",
       "      <td>NaN</td>\n",
       "      <td>NaN</td>\n",
       "      <td>1.0</td>\n",
       "      <td>NaN</td>\n",
       "      <td>NaN</td>\n",
       "      <td>NaN</td>\n",
       "      <td>NaN</td>\n",
       "      <td>NaN</td>\n",
       "    </tr>\n",
       "    <tr>\n",
       "      <th>4</th>\n",
       "      <td>20.0</td>\n",
       "      <td>0.0</td>\n",
       "      <td>NaN</td>\n",
       "      <td>NaN</td>\n",
       "      <td>NaN</td>\n",
       "      <td>NaN</td>\n",
       "      <td>NaN</td>\n",
       "      <td>between 100,000 and 1 million</td>\n",
       "      <td>NaN</td>\n",
       "      <td>NaN</td>\n",
       "      <td>...</td>\n",
       "      <td>NaN</td>\n",
       "      <td>NaN</td>\n",
       "      <td>NaN</td>\n",
       "      <td>NaN</td>\n",
       "      <td>NaN</td>\n",
       "      <td>NaN</td>\n",
       "      <td>NaN</td>\n",
       "      <td>NaN</td>\n",
       "      <td>NaN</td>\n",
       "      <td>NaN</td>\n",
       "    </tr>\n",
       "  </tbody>\n",
       "</table>\n",
       "<p>5 rows × 136 columns</p>\n",
       "</div>"
      ],
      "text/plain": [
       "    Age  AttendedBootcamp  BootcampFinish  BootcampLoanYesNo BootcampName  \\\n",
       "0  27.0               0.0             NaN                NaN          NaN   \n",
       "1  34.0               0.0             NaN                NaN          NaN   \n",
       "2  21.0               0.0             NaN                NaN          NaN   \n",
       "3  26.0               0.0             NaN                NaN          NaN   \n",
       "4  20.0               0.0             NaN                NaN          NaN   \n",
       "\n",
       "   BootcampRecommend  ChildrenNumber                 CityPopulation  \\\n",
       "0                NaN             NaN            more than 1 million   \n",
       "1                NaN             NaN              less than 100,000   \n",
       "2                NaN             NaN            more than 1 million   \n",
       "3                NaN             NaN  between 100,000 and 1 million   \n",
       "4                NaN             NaN  between 100,000 and 1 million   \n",
       "\n",
       "   CodeEventConferences  CodeEventDjangoGirls         ...           \\\n",
       "0                   NaN                   NaN         ...            \n",
       "1                   NaN                   NaN         ...            \n",
       "2                   NaN                   NaN         ...            \n",
       "3                   NaN                   NaN         ...            \n",
       "4                   NaN                   NaN         ...            \n",
       "\n",
       "   YouTubeFCC  YouTubeFunFunFunction  YouTubeGoogleDev  YouTubeLearnCode  \\\n",
       "0         NaN                    NaN               NaN               NaN   \n",
       "1         1.0                    NaN               NaN               NaN   \n",
       "2         NaN                    NaN               NaN               1.0   \n",
       "3         1.0                    1.0               NaN               NaN   \n",
       "4         NaN                    NaN               NaN               NaN   \n",
       "\n",
       "   YouTubeLevelUpTuts  YouTubeMIT  YouTubeMozillaHacks YouTubeOther  \\\n",
       "0                 NaN         NaN                  NaN          NaN   \n",
       "1                 NaN         NaN                  NaN          NaN   \n",
       "2                 1.0         NaN                  NaN          NaN   \n",
       "3                 1.0         NaN                  NaN          NaN   \n",
       "4                 NaN         NaN                  NaN          NaN   \n",
       "\n",
       "   YouTubeSimplilearn  YouTubeTheNewBoston  \n",
       "0                 NaN                  NaN  \n",
       "1                 NaN                  NaN  \n",
       "2                 NaN                  NaN  \n",
       "3                 NaN                  NaN  \n",
       "4                 NaN                  NaN  \n",
       "\n",
       "[5 rows x 136 columns]"
      ]
     },
     "execution_count": 4,
     "metadata": {},
     "output_type": "execute_result"
    }
   ],
   "source": [
    "new_coders_survey.head(5)"
   ]
  },
  {
   "cell_type": "code",
   "execution_count": 5,
   "metadata": {},
   "outputs": [
    {
     "name": "stdout",
     "output_type": "stream",
     "text": [
      "<class 'pandas.core.frame.DataFrame'>\n",
      "RangeIndex: 18175 entries, 0 to 18174\n",
      "Columns: 136 entries, Age to YouTubeTheNewBoston\n",
      "dtypes: float64(105), object(31)\n",
      "memory usage: 18.9+ MB\n"
     ]
    }
   ],
   "source": [
    "new_coders_survey.info()"
   ]
  },
  {
   "cell_type": "code",
   "execution_count": 6,
   "metadata": {},
   "outputs": [
    {
     "data": {
      "text/plain": [
       "['Age',\n",
       " 'AttendedBootcamp',\n",
       " 'BootcampFinish',\n",
       " 'BootcampLoanYesNo',\n",
       " 'BootcampName',\n",
       " 'BootcampRecommend',\n",
       " 'ChildrenNumber',\n",
       " 'CityPopulation',\n",
       " 'CodeEventConferences',\n",
       " 'CodeEventDjangoGirls',\n",
       " 'CodeEventFCC',\n",
       " 'CodeEventGameJam',\n",
       " 'CodeEventGirlDev',\n",
       " 'CodeEventHackathons',\n",
       " 'CodeEventMeetup',\n",
       " 'CodeEventNodeSchool',\n",
       " 'CodeEventNone',\n",
       " 'CodeEventOther',\n",
       " 'CodeEventRailsBridge',\n",
       " 'CodeEventRailsGirls',\n",
       " 'CodeEventStartUpWknd',\n",
       " 'CodeEventWkdBootcamps',\n",
       " 'CodeEventWomenCode',\n",
       " 'CodeEventWorkshops',\n",
       " 'CommuteTime',\n",
       " 'CountryCitizen',\n",
       " 'CountryLive',\n",
       " 'EmploymentField',\n",
       " 'EmploymentFieldOther',\n",
       " 'EmploymentStatus',\n",
       " 'EmploymentStatusOther',\n",
       " 'ExpectedEarning',\n",
       " 'FinanciallySupporting',\n",
       " 'FirstDevJob',\n",
       " 'Gender',\n",
       " 'GenderOther',\n",
       " 'HasChildren',\n",
       " 'HasDebt',\n",
       " 'HasFinancialDependents',\n",
       " 'HasHighSpdInternet',\n",
       " 'HasHomeMortgage',\n",
       " 'HasServedInMilitary',\n",
       " 'HasStudentDebt',\n",
       " 'HomeMortgageOwe',\n",
       " 'HoursLearning',\n",
       " 'ID.x',\n",
       " 'ID.y',\n",
       " 'Income',\n",
       " 'IsEthnicMinority',\n",
       " 'IsReceiveDisabilitiesBenefits',\n",
       " 'IsSoftwareDev',\n",
       " 'IsUnderEmployed',\n",
       " 'JobApplyWhen',\n",
       " 'JobInterestBackEnd',\n",
       " 'JobInterestDataEngr',\n",
       " 'JobInterestDataSci',\n",
       " 'JobInterestDevOps',\n",
       " 'JobInterestFrontEnd',\n",
       " 'JobInterestFullStack',\n",
       " 'JobInterestGameDev',\n",
       " 'JobInterestInfoSec',\n",
       " 'JobInterestMobile',\n",
       " 'JobInterestOther',\n",
       " 'JobInterestProjMngr',\n",
       " 'JobInterestQAEngr',\n",
       " 'JobInterestUX',\n",
       " 'JobPref',\n",
       " 'JobRelocateYesNo',\n",
       " 'JobRoleInterest',\n",
       " 'JobWherePref',\n",
       " 'LanguageAtHome',\n",
       " 'MaritalStatus',\n",
       " 'MoneyForLearning',\n",
       " 'MonthsProgramming',\n",
       " 'NetworkID',\n",
       " 'Part1EndTime',\n",
       " 'Part1StartTime',\n",
       " 'Part2EndTime',\n",
       " 'Part2StartTime',\n",
       " 'PodcastChangeLog',\n",
       " 'PodcastCodeNewbie',\n",
       " 'PodcastCodePen',\n",
       " 'PodcastDevTea',\n",
       " 'PodcastDotNET',\n",
       " 'PodcastGiantRobots',\n",
       " 'PodcastJSAir',\n",
       " 'PodcastJSJabber',\n",
       " 'PodcastNone',\n",
       " 'PodcastOther',\n",
       " 'PodcastProgThrowdown',\n",
       " 'PodcastRubyRogues',\n",
       " 'PodcastSEDaily',\n",
       " 'PodcastSERadio',\n",
       " 'PodcastShopTalk',\n",
       " 'PodcastTalkPython',\n",
       " 'PodcastTheWebAhead',\n",
       " 'ResourceCodecademy',\n",
       " 'ResourceCodeWars',\n",
       " 'ResourceCoursera',\n",
       " 'ResourceCSS',\n",
       " 'ResourceEdX',\n",
       " 'ResourceEgghead',\n",
       " 'ResourceFCC',\n",
       " 'ResourceHackerRank',\n",
       " 'ResourceKA',\n",
       " 'ResourceLynda',\n",
       " 'ResourceMDN',\n",
       " 'ResourceOdinProj',\n",
       " 'ResourceOther',\n",
       " 'ResourcePluralSight',\n",
       " 'ResourceSkillcrush',\n",
       " 'ResourceSO',\n",
       " 'ResourceTreehouse',\n",
       " 'ResourceUdacity',\n",
       " 'ResourceUdemy',\n",
       " 'ResourceW3S',\n",
       " 'SchoolDegree',\n",
       " 'SchoolMajor',\n",
       " 'StudentDebtOwe',\n",
       " 'YouTubeCodeCourse',\n",
       " 'YouTubeCodingTrain',\n",
       " 'YouTubeCodingTut360',\n",
       " 'YouTubeComputerphile',\n",
       " 'YouTubeDerekBanas',\n",
       " 'YouTubeDevTips',\n",
       " 'YouTubeEngineeredTruth',\n",
       " 'YouTubeFCC',\n",
       " 'YouTubeFunFunFunction',\n",
       " 'YouTubeGoogleDev',\n",
       " 'YouTubeLearnCode',\n",
       " 'YouTubeLevelUpTuts',\n",
       " 'YouTubeMIT',\n",
       " 'YouTubeMozillaHacks',\n",
       " 'YouTubeOther',\n",
       " 'YouTubeSimplilearn',\n",
       " 'YouTubeTheNewBoston']"
      ]
     },
     "execution_count": 6,
     "metadata": {},
     "output_type": "execute_result"
    }
   ],
   "source": [
    "new_coders_survey.columns.tolist()"
   ]
  },
  {
   "cell_type": "markdown",
   "metadata": {},
   "source": [
    "Since we are interested in new coders' learning interests, locations and finicial capability, so we can exclude columns like 'CodeEventXXX','PodcastXXX', 'ResourceXXX',  'YoutubeXXX' and some id information."
   ]
  },
  {
   "cell_type": "code",
   "execution_count": 7,
   "metadata": {},
   "outputs": [],
   "source": [
    "survey = new_coders_survey[['Age','AttendedBootcamp','BootcampFinish','BootcampLoanYesNo',\n",
    " 'BootcampName','BootcampRecommend','ChildrenNumber','CityPopulation',\n",
    " 'CommuteTime','CountryCitizen', 'CountryLive','EmploymentField', 'EmploymentFieldOther',\n",
    " 'EmploymentStatus', 'EmploymentStatusOther', 'ExpectedEarning','FinanciallySupporting',\n",
    " 'FirstDevJob','Gender','GenderOther','HasChildren','HasDebt','HasFinancialDependents',\n",
    " 'HasHighSpdInternet','HasHomeMortgage','HasServedInMilitary','HasStudentDebt',\n",
    " 'HomeMortgageOwe','HoursLearning', 'Income', 'IsEthnicMinority',\n",
    " 'IsReceiveDisabilitiesBenefits', 'IsSoftwareDev','IsUnderEmployed',\n",
    " 'JobApplyWhen','JobInterestBackEnd','JobInterestDataEngr','JobInterestDataSci',\n",
    " 'JobInterestDevOps','JobInterestFrontEnd','JobInterestFullStack','JobInterestGameDev',\n",
    " 'JobInterestInfoSec','JobInterestMobile','JobInterestOther','JobInterestProjMngr',\n",
    " 'JobInterestQAEngr','JobInterestUX','JobPref','JobRelocateYesNo','JobRoleInterest',\n",
    " 'JobWherePref','LanguageAtHome', 'MaritalStatus','MoneyForLearning',\n",
    " 'MonthsProgramming', 'SchoolDegree','SchoolMajor','StudentDebtOwe']].copy()"
   ]
  },
  {
   "cell_type": "code",
   "execution_count": 8,
   "metadata": {},
   "outputs": [
    {
     "name": "stdout",
     "output_type": "stream",
     "text": [
      "<class 'pandas.core.frame.DataFrame'>\n",
      "RangeIndex: 18175 entries, 0 to 18174\n",
      "Data columns (total 59 columns):\n",
      "Age                              15367 non-null float64\n",
      "AttendedBootcamp                 17709 non-null float64\n",
      "BootcampFinish                   1069 non-null float64\n",
      "BootcampLoanYesNo                1079 non-null float64\n",
      "BootcampName                     949 non-null object\n",
      "BootcampRecommend                1073 non-null float64\n",
      "ChildrenNumber                   2314 non-null float64\n",
      "CityPopulation                   15354 non-null object\n",
      "CommuteTime                      9246 non-null object\n",
      "CountryCitizen                   15382 non-null object\n",
      "CountryLive                      15336 non-null object\n",
      "EmploymentField                  8116 non-null object\n",
      "EmploymentFieldOther             1078 non-null object\n",
      "EmploymentStatus                 14345 non-null object\n",
      "EmploymentStatusOther            835 non-null object\n",
      "ExpectedEarning                  7200 non-null float64\n",
      "FinanciallySupporting            3833 non-null float64\n",
      "FirstDevJob                      4508 non-null float64\n",
      "Gender                           15454 non-null object\n",
      "GenderOther                      55 non-null object\n",
      "HasChildren                      3858 non-null float64\n",
      "HasDebt                          15291 non-null float64\n",
      "HasFinancialDependents           15329 non-null float64\n",
      "HasHighSpdInternet               15380 non-null float64\n",
      "HasHomeMortgage                  6397 non-null float64\n",
      "HasServedInMilitary              15256 non-null float64\n",
      "HasStudentDebt                   6402 non-null float64\n",
      "HomeMortgageOwe                  1371 non-null float64\n",
      "HoursLearning                    16714 non-null float64\n",
      "Income                           7623 non-null float64\n",
      "IsEthnicMinority                 15293 non-null float64\n",
      "IsReceiveDisabilitiesBenefits    15222 non-null float64\n",
      "IsSoftwareDev                    18068 non-null float64\n",
      "IsUnderEmployed                  9223 non-null float64\n",
      "JobApplyWhen                     8138 non-null object\n",
      "JobInterestBackEnd               3201 non-null float64\n",
      "JobInterestDataEngr              1470 non-null float64\n",
      "JobInterestDataSci               1940 non-null float64\n",
      "JobInterestDevOps                1092 non-null float64\n",
      "JobInterestFrontEnd              4047 non-null float64\n",
      "JobInterestFullStack             4831 non-null float64\n",
      "JobInterestGameDev               1875 non-null float64\n",
      "JobInterestInfoSec               1560 non-null float64\n",
      "JobInterestMobile                2677 non-null float64\n",
      "JobInterestOther                 266 non-null object\n",
      "JobInterestProjMngr              939 non-null float64\n",
      "JobInterestQAEngr                584 non-null float64\n",
      "JobInterestUX                    1691 non-null float64\n",
      "JobPref                          13483 non-null object\n",
      "JobRelocateYesNo                 6503 non-null float64\n",
      "JobRoleInterest                  6992 non-null object\n",
      "JobWherePref                     8118 non-null object\n",
      "LanguageAtHome                   15344 non-null object\n",
      "MaritalStatus                    15335 non-null object\n",
      "MoneyForLearning                 16577 non-null float64\n",
      "MonthsProgramming                17084 non-null float64\n",
      "SchoolDegree                     15368 non-null object\n",
      "SchoolMajor                      8727 non-null object\n",
      "StudentDebtOwe                   3362 non-null float64\n",
      "dtypes: float64(39), object(20)\n",
      "memory usage: 8.2+ MB\n"
     ]
    }
   ],
   "source": [
    "survey.info()"
   ]
  },
  {
   "cell_type": "markdown",
   "metadata": {},
   "source": [
    "## Checking for Sample Representativity\n",
    "\n",
    "Before starting to analyze the sample data we have, we need to clarify whether it's representative for our population of interest and it has the right categories of people for our purpose. We will:\n",
    "- Generate a frequncy distributiion table for the 'JobRoleInterest' column, which describes for every participant the role(s) they'd interested in working.\n",
    "- Analyze the table to see \n",
    "    - if people are interested in only one subject or more than one subject.\n",
    "    - how many people are interested in at least one of web and mobile development subjects. "
   ]
  },
  {
   "cell_type": "code",
   "execution_count": 9,
   "metadata": {},
   "outputs": [
    {
     "data": {
      "text/plain": [
       "Full-Stack Web Developer                                                                                                                                                                                                            0.117706\n",
       "  Front-End Web Developer                                                                                                                                                                                                           0.064359\n",
       "  Data Scientist                                                                                                                                                                                                                    0.021739\n",
       "Back-End Web Developer                                                                                                                                                                                                              0.020309\n",
       "  Mobile Developer                                                                                                                                                                                                                  0.016733\n",
       "Game Developer                                                                                                                                                                                                                      0.016304\n",
       "Information Security                                                                                                                                                                                                                0.013158\n",
       "Full-Stack Web Developer,   Front-End Web Developer                                                                                                                                                                                 0.009153\n",
       "  Front-End Web Developer, Full-Stack Web Developer                                                                                                                                                                                 0.008009\n",
       "  Product Manager                                                                                                                                                                                                                   0.007866\n",
       "Data Engineer                                                                                                                                                                                                                       0.007580\n",
       "  User Experience Designer                                                                                                                                                                                                          0.007437\n",
       "  User Experience Designer,   Front-End Web Developer                                                                                                                                                                               0.006150\n",
       "  Front-End Web Developer, Back-End Web Developer, Full-Stack Web Developer                                                                                                                                                         0.005578\n",
       "Back-End Web Developer, Full-Stack Web Developer,   Front-End Web Developer                                                                                                                                                         0.005149\n",
       "  DevOps / SysAdmin                                                                                                                                                                                                                 0.005149\n",
       "Back-End Web Developer,   Front-End Web Developer, Full-Stack Web Developer                                                                                                                                                         0.005149\n",
       "Full-Stack Web Developer,   Front-End Web Developer, Back-End Web Developer                                                                                                                                                         0.004434\n",
       "  Front-End Web Developer, Full-Stack Web Developer, Back-End Web Developer                                                                                                                                                         0.004291\n",
       "  Front-End Web Developer,   User Experience Designer                                                                                                                                                                               0.004148\n",
       "Full-Stack Web Developer,   Mobile Developer                                                                                                                                                                                        0.004148\n",
       "Back-End Web Developer, Full-Stack Web Developer                                                                                                                                                                                    0.003862\n",
       "Full-Stack Web Developer, Back-End Web Developer                                                                                                                                                                                    0.003719\n",
       "Back-End Web Developer,   Front-End Web Developer                                                                                                                                                                                   0.002860\n",
       "Data Engineer,   Data Scientist                                                                                                                                                                                                     0.002717\n",
       "Full-Stack Web Developer, Back-End Web Developer,   Front-End Web Developer                                                                                                                                                         0.002717\n",
       "  Front-End Web Developer,   Mobile Developer                                                                                                                                                                                       0.002574\n",
       "Full-Stack Web Developer,   Data Scientist                                                                                                                                                                                          0.002431\n",
       "  Mobile Developer, Game Developer                                                                                                                                                                                                  0.002288\n",
       "  Data Scientist, Data Engineer                                                                                                                                                                                                     0.002288\n",
       "                                                                                                                                                                                                                                      ...   \n",
       "Game Developer, Full-Stack Web Developer,   User Experience Designer,   Mobile Developer                                                                                                                                            0.000143\n",
       "  Mobile Developer,   Data Scientist, Full-Stack Web Developer,   Front-End Web Developer, Back-End Web Developer, Information Security, Game Developer                                                                             0.000143\n",
       "Information Security, Game Developer,   Mobile Developer,   DevOps / SysAdmin                                                                                                                                                       0.000143\n",
       "Full-Stack Web Developer, Information Security,   User Experience Designer,   Data Scientist, Back-End Web Developer,   Mobile Developer,   Front-End Web Developer                                                                 0.000143\n",
       "Information Security,   DevOps / SysAdmin, Back-End Web Developer, Full-Stack Web Developer,   Front-End Web Developer                                                                                                              0.000143\n",
       "  Front-End Web Developer,   Product Manager,   Quality Assurance Engineer, Information Security, Game Developer, Full-Stack Web Developer                                                                                          0.000143\n",
       "  Mobile Developer, Full-Stack Web Developer, Game Developer,   User Experience Designer,   Front-End Web Developer, Back-End Web Developer                                                                                         0.000143\n",
       "Information Security,   User Experience Designer,   Data Scientist, Full-Stack Web Developer                                                                                                                                        0.000143\n",
       "  User Experience Designer, Back-End Web Developer, Game Developer, Full-Stack Web Developer,   Front-End Web Developer                                                                                                             0.000143\n",
       "  User Experience Designer,   Data Scientist,   Front-End Web Developer,   Mobile Developer, Back-End Web Developer, Full-Stack Web Developer                                                                                       0.000143\n",
       "Information Security,   DevOps / SysAdmin,   Data Scientist,   Front-End Web Developer,   Quality Assurance Engineer,   Product Manager, Data Engineer, Back-End Web Developer                                                      0.000143\n",
       "  Mobile Developer, Full-Stack Web Developer, Information Security,   User Experience Designer,   Product Manager,   Data Scientist                                                                                                 0.000143\n",
       "  Front-End Web Developer, Game Developer,   Mobile Developer, Back-End Web Developer                                                                                                                                               0.000143\n",
       "Full-Stack Web Developer, Back-End Web Developer,   Front-End Web Developer,   User Experience Designer                                                                                                                             0.000143\n",
       "  Mobile Developer, Information Security,   Data Scientist,   Product Manager, Data Engineer                                                                                                                                        0.000143\n",
       "  User Experience Designer,   Front-End Web Developer,   Quality Assurance Engineer, Information Architect                                                                                                                          0.000143\n",
       "Back-End Web Developer,   Front-End Web Developer,   Data Scientist, Game Developer, Full-Stack Web Developer, Software engineer                                                                                                    0.000143\n",
       "  Front-End Web Developer,   User Experience Designer, Back-End Web Developer,   Mobile Developer, Full-Stack Web Developer                                                                                                         0.000143\n",
       "  Data Scientist, Full-Stack Web Developer, Information Security, Data Engineer, Back-End Web Developer                                                                                                                             0.000143\n",
       "Information Security,   DevOps / SysAdmin,   Mobile Developer                                                                                                                                                                       0.000143\n",
       "email coder                                                                                                                                                                                                                         0.000143\n",
       "  Front-End Web Developer, Back-End Web Developer, Game Developer, Full-Stack Web Developer,   Data Scientist                                                                                                                       0.000143\n",
       "Game Developer, Data Engineer, Back-End Web Developer, Information Security                                                                                                                                                         0.000143\n",
       "  User Experience Designer,   Product Manager,   DevOps / SysAdmin, Back-End Web Developer,   Front-End Web Developer,   Mobile Developer, Data Engineer, Full-Stack Web Developer,   Quality Assurance Engineer, Game Developer    0.000143\n",
       "  Mobile Developer, Data Engineer, Back-End Web Developer, Game Developer,   Front-End Web Developer,   Data Scientist, Full-Stack Web Developer,   User Experience Designer                                                        0.000143\n",
       "Full-Stack Web Developer, Software Developer or Front-End Web Developer                                                                                                                                                             0.000143\n",
       "Full-Stack Web Developer,   Front-End Web Developer, Data Engineer,   Data Scientist,   User Experience Designer, Back-End Web Developer,   Mobile Developer                                                                        0.000143\n",
       "Data Engineer, Full-Stack Web Developer,   Mobile Developer                                                                                                                                                                         0.000143\n",
       "  Mobile Developer, Back-End Web Developer,   Front-End Web Developer, Information Security                                                                                                                                         0.000143\n",
       "  Data Scientist,   Front-End Web Developer,   Quality Assurance Engineer, Full-Stack Web Developer,   User Experience Designer, Back-End Web Developer, Data Engineer                                                              0.000143\n",
       "Name: JobRoleInterest, Length: 3213, dtype: float64"
      ]
     },
     "execution_count": 9,
     "metadata": {},
     "output_type": "execute_result"
    }
   ],
   "source": [
    "survey['JobRoleInterest'].value_counts(normalize = True)"
   ]
  },
  {
   "cell_type": "markdown",
   "metadata": {},
   "source": [
    "For this column there are space in some rows, so let's remove them."
   ]
  },
  {
   "cell_type": "code",
   "execution_count": 10,
   "metadata": {},
   "outputs": [],
   "source": [
    "survey['JobRoleInterest'] = survey['JobRoleInterest'].str.strip()"
   ]
  },
  {
   "cell_type": "markdown",
   "metadata": {},
   "source": [
    "People can be interested in more than one subject, and there are a lot of combinations. Let's look at the top 10 common interest."
   ]
  },
  {
   "cell_type": "code",
   "execution_count": 11,
   "metadata": {},
   "outputs": [],
   "source": [
    "JobRoleInterest_summary = survey['JobRoleInterest'].value_counts(normalize = True)"
   ]
  },
  {
   "cell_type": "code",
   "execution_count": 12,
   "metadata": {},
   "outputs": [
    {
     "data": {
      "text/plain": [
       "Index([u'Full-Stack Web Developer', u'Front-End Web Developer',\n",
       "       u'Data Scientist', u'Back-End Web Developer', u'Mobile Developer',\n",
       "       u'Game Developer', u'Information Security',\n",
       "       u'Full-Stack Web Developer,   Front-End Web Developer',\n",
       "       u'Front-End Web Developer, Full-Stack Web Developer',\n",
       "       u'Product Manager'],\n",
       "      dtype='object')"
      ]
     },
     "execution_count": 12,
     "metadata": {},
     "output_type": "execute_result"
    }
   ],
   "source": [
    "JobRoleInterest_summary[:10].index"
   ]
  },
  {
   "cell_type": "code",
   "execution_count": 13,
   "metadata": {},
   "outputs": [
    {
     "data": {
      "image/png": "[encoded data removed]",
      "text/plain": [
       "<Figure size 1008x360 with 1 Axes>"
      ]
     },
     "metadata": {
      "needs_background": "light"
     },
     "output_type": "display_data"
    }
   ],
   "source": [
    "plt.figure()\n",
    "JobRoleInterest_summary[:10].plot(kind = 'bar',figsize = (14,5))\n",
    "plt.xticks(np.arange(0,10),('Full-Stack Web Developer', 'Front-End Web Developer',\n",
    "       'Data Scientist', 'Back-End Web Developer', u'Mobile Developer',\n",
    "       'Game Developer', 'Information Security',\n",
    "       'Full-Stack & Front-End Web Developer',\n",
    "       'Front-End & Full-Stack Web Developer',\n",
    "       'Product Manager'), fontsize=10, rotation= 20)\n",
    "plt.title('Top 10 Common Job Role Interests')\n",
    "plt.show()"
   ]
  },
  {
   "cell_type": "markdown",
   "metadata": {},
   "source": [
    "Next we want to find out how many people are interested in web or mobile subjects."
   ]
  },
  {
   "cell_type": "code",
   "execution_count": 14,
   "metadata": {},
   "outputs": [],
   "source": [
    "subjects = JobRoleInterest_summary.index.tolist()\n",
    "web_mobile_subjects = {}\n",
    "for s in subjects:\n",
    "    if re.search('Web',s) or re.search('Mobile',s):\n",
    "        web_mobile_subjects[s] = JobRoleInterest_summary.loc[s]"
   ]
  },
  {
   "cell_type": "code",
   "execution_count": 15,
   "metadata": {},
   "outputs": [],
   "source": [
    "web_mobile_subjects_df = pd.DataFrame.from_dict(web_mobile_subjects,orient='index')"
   ]
  },
  {
   "cell_type": "code",
   "execution_count": 16,
   "metadata": {},
   "outputs": [
    {
     "data": {
      "text/html": [
       "<div>\n",
       "<style scoped>\n",
       "    .dataframe tbody tr th:only-of-type {\n",
       "        vertical-align: middle;\n",
       "    }\n",
       "\n",
       "    .dataframe tbody tr th {\n",
       "        vertical-align: top;\n",
       "    }\n",
       "\n",
       "    .dataframe thead th {\n",
       "        text-align: right;\n",
       "    }\n",
       "</style>\n",
       "<table border=\"1\" class=\"dataframe\">\n",
       "  <thead>\n",
       "    <tr style=\"text-align: right;\">\n",
       "      <th></th>\n",
       "      <th>0</th>\n",
       "    </tr>\n",
       "  </thead>\n",
       "  <tbody>\n",
       "    <tr>\n",
       "      <th>Front-End Web Developer, Full-Stack Web Developer,   Mobile Developer,   User Experience Designer, Back-End Web Developer</th>\n",
       "      <td>0.000143</td>\n",
       "    </tr>\n",
       "    <tr>\n",
       "      <th>Front-End Web Developer, Full-Stack Web Developer, Back-End Web Developer, Game Developer,   Mobile Developer</th>\n",
       "      <td>0.000143</td>\n",
       "    </tr>\n",
       "    <tr>\n",
       "      <th>Full-Stack Web Developer,   Mobile Developer, Game Developer, Back-End Web Developer</th>\n",
       "      <td>0.000286</td>\n",
       "    </tr>\n",
       "    <tr>\n",
       "      <th>Game Developer, Full-Stack Web Developer,   Product Manager,   Mobile Developer,   User Experience Designer</th>\n",
       "      <td>0.000143</td>\n",
       "    </tr>\n",
       "    <tr>\n",
       "      <th>User Experience Designer,   Product Manager,   Quality Assurance Engineer,   DevOps / SysAdmin,   Mobile Developer,   Front-End Web Developer, Full-Stack Web Developer, Information Security, Back-End Web Developer</th>\n",
       "      <td>0.000143</td>\n",
       "    </tr>\n",
       "  </tbody>\n",
       "</table>\n",
       "</div>"
      ],
      "text/plain": [
       "                                                           0\n",
       "Front-End Web Developer, Full-Stack Web Develop...  0.000143\n",
       "Front-End Web Developer, Full-Stack Web Develop...  0.000143\n",
       "Full-Stack Web Developer,   Mobile Developer, G...  0.000286\n",
       "Game Developer, Full-Stack Web Developer,   Pro...  0.000143\n",
       "User Experience Designer,   Product Manager,   ...  0.000143"
      ]
     },
     "execution_count": 16,
     "metadata": {},
     "output_type": "execute_result"
    }
   ],
   "source": [
    "web_mobile_subjects_df.head()"
   ]
  },
  {
   "cell_type": "code",
   "execution_count": 17,
   "metadata": {},
   "outputs": [
    {
     "data": {
      "text/plain": [
       "0    0.862986\n",
       "dtype: float64"
      ]
     },
     "execution_count": 17,
     "metadata": {},
     "output_type": "execute_result"
    }
   ],
   "source": [
    "web_mobile_subjects_df.sum()"
   ]
  },
  {
   "cell_type": "code",
   "execution_count": 18,
   "metadata": {},
   "outputs": [
    {
     "data": {
      "image/png": "[encoded data removed]",
      "text/plain": [
       "<Figure size 432x288 with 1 Axes>"
      ]
     },
     "metadata": {
      "needs_background": "light"
     },
     "output_type": "display_data"
    }
   ],
   "source": [
    "web_mobile_other = {'Web or Mobile': 0.862986, 'Other': 1-0.862986}\n",
    "names = list(web_mobile_other.keys())\n",
    "values = list(web_mobile_other.values())\n",
    "plt.bar(range(2),values,tick_label=names)\n",
    "plt.title('Job Interests')\n",
    "plt.show()"
   ]
  },
  {
   "cell_type": "markdown",
   "metadata": {},
   "source": [
    "It turns out that 86% people are interested in at least one of these two subjects."
   ]
  },
  {
   "cell_type": "markdown",
   "metadata": {},
   "source": [
    "## New Coders - Locations and Densities"
   ]
  },
  {
   "cell_type": "markdown",
   "metadata": {},
   "source": [
    "We now want to find out where these new coders are located, and what arethe densities for each location. We'll work with the 'CountryLive' variable, which describes what country each participants lives in. We will:\n",
    "- Drop all the rows where participants didn't answer what role they are interested in.\n",
    "- Generate a frequncy table for the 'CountryLive' variable."
   ]
  },
  {
   "cell_type": "code",
   "execution_count": 19,
   "metadata": {},
   "outputs": [
    {
     "data": {
      "text/plain": [
       "(18175, 59)"
      ]
     },
     "execution_count": 19,
     "metadata": {},
     "output_type": "execute_result"
    }
   ],
   "source": [
    "survey.shape"
   ]
  },
  {
   "cell_type": "code",
   "execution_count": 20,
   "metadata": {},
   "outputs": [
    {
     "data": {
      "text/plain": [
       "11183"
      ]
     },
     "execution_count": 20,
     "metadata": {},
     "output_type": "execute_result"
    }
   ],
   "source": [
    "survey['JobRoleInterest'].isnull().sum()"
   ]
  },
  {
   "cell_type": "code",
   "execution_count": 21,
   "metadata": {},
   "outputs": [],
   "source": [
    "survey_jobrole = survey[survey['JobRoleInterest'].notnull()].copy()"
   ]
  },
  {
   "cell_type": "code",
   "execution_count": 22,
   "metadata": {},
   "outputs": [
    {
     "data": {
      "text/plain": [
       "(6992, 59)"
      ]
     },
     "execution_count": 22,
     "metadata": {},
     "output_type": "execute_result"
    }
   ],
   "source": [
    "survey_jobrole.shape"
   ]
  },
  {
   "cell_type": "code",
   "execution_count": 23,
   "metadata": {},
   "outputs": [],
   "source": [
    "countrylive_summary = survey_jobrole['CountryLive'].value_counts()"
   ]
  },
  {
   "cell_type": "code",
   "execution_count": 24,
   "metadata": {},
   "outputs": [],
   "source": [
    "countrylive_summary_percentage = survey_jobrole['CountryLive'].value_counts(normalize = True)"
   ]
  },
  {
   "cell_type": "code",
   "execution_count": 25,
   "metadata": {},
   "outputs": [
    {
     "data": {
      "text/plain": [
       "United States of America    0.457005\n",
       "India                       0.077216\n",
       "United Kingdom              0.046066\n",
       "Canada                      0.038023\n",
       "Poland                      0.019158\n",
       "Brazil                      0.018865\n",
       "Germany                     0.018280\n",
       "Australia                   0.016379\n",
       "Russia                      0.014917\n",
       "Ukraine                     0.013016\n",
       "Name: CountryLive, dtype: float64"
      ]
     },
     "execution_count": 25,
     "metadata": {},
     "output_type": "execute_result"
    }
   ],
   "source": [
    "countrylive_summary_percentage.head(10)"
   ]
  },
  {
   "cell_type": "code",
   "execution_count": 26,
   "metadata": {},
   "outputs": [
    {
     "data": {
      "image/png": "[encoded data removed]",
      "text/plain": [
       "<Figure size 1008x432 with 1 Axes>"
      ]
     },
     "metadata": {
      "needs_background": "light"
     },
     "output_type": "display_data"
    }
   ],
   "source": [
    "plt.figure()\n",
    "countrylive_summary_percentage.head(10).plot(kind = 'bar', figsize = (14,6), fontsize = 12, rot = 30)\n",
    "plt.ylabel('percentage')\n",
    "plt.title('10 Countries with Most Participants Living in ')\n",
    "plt.show()"
   ]
  },
  {
   "cell_type": "markdown",
   "metadata": {},
   "source": [
    "Most new coders live in United States of America, and India, United Kindom and Canada are the next three countries with new coders live in."
   ]
  },
  {
   "cell_type": "markdown",
   "metadata": {},
   "source": [
    "## Spending Money for Learning\n",
    "\n",
    "Nect we want to figure out how much money new coders are acturaaly willing to spend on learning. Advertising within markets where most people are only willing to learn for free is extremly unlikely to be profitable for us.\n",
    "\n",
    "The 'MoneyForLearning' column describes the amount of money spent by participants from the moment they started coding until the moment they completed the survey. Our company sells subscriptions at a price of $59 per month, and for this reason we'are interestd in finding out how much money each student spends per month.\n",
    "\n",
    "We will narrow down our analysis to only four countries: the US, India, the United Kingdom and Canada, since from analysis above, they are the coutries having the highest frequencies in our sample.\n",
    "\n",
    "We will:\n",
    "- Create a new column that describes the amount of money a student has spent per month."
   ]
  },
  {
   "cell_type": "code",
   "execution_count": 27,
   "metadata": {},
   "outputs": [],
   "source": [
    "survey_jobrole['MoneyPerMonth'] = survey_jobrole['MoneyForLearning']/ (survey_jobrole['MonthsProgramming'].replace(0,1))"
   ]
  },
  {
   "cell_type": "code",
   "execution_count": 28,
   "metadata": {},
   "outputs": [
    {
     "data": {
      "text/plain": [
       "0.09653890160183067"
      ]
     },
     "execution_count": 28,
     "metadata": {},
     "output_type": "execute_result"
    }
   ],
   "source": [
    "survey_jobrole['MoneyPerMonth'].isnull().sum()/float(survey_jobrole.shape[0])"
   ]
  },
  {
   "cell_type": "markdown",
   "metadata": {},
   "source": [
    "There is no 'MoneyPerMonth' for about 10% data,and we will drop those data."
   ]
  },
  {
   "cell_type": "code",
   "execution_count": 29,
   "metadata": {},
   "outputs": [],
   "source": [
    "survey_money = survey_jobrole.dropna(subset = ['MoneyPerMonth']).copy()"
   ]
  },
  {
   "cell_type": "code",
   "execution_count": 30,
   "metadata": {},
   "outputs": [
    {
     "data": {
      "text/plain": [
       "(6317, 60)"
      ]
     },
     "execution_count": 30,
     "metadata": {},
     "output_type": "execute_result"
    }
   ],
   "source": [
    "survey_money.shape"
   ]
  },
  {
   "cell_type": "markdown",
   "metadata": {},
   "source": [
    "We also want to remove rows that have null values in the 'CountryLive' column"
   ]
  },
  {
   "cell_type": "code",
   "execution_count": 31,
   "metadata": {},
   "outputs": [],
   "source": [
    "survey_money = survey_money.dropna(subset=['CountryLive'])"
   ]
  },
  {
   "cell_type": "code",
   "execution_count": 32,
   "metadata": {},
   "outputs": [
    {
     "data": {
      "text/plain": [
       "(6212, 60)"
      ]
     },
     "execution_count": 32,
     "metadata": {},
     "output_type": "execute_result"
    }
   ],
   "source": [
    "survey_money.shape"
   ]
  },
  {
   "cell_type": "code",
   "execution_count": 33,
   "metadata": {},
   "outputs": [],
   "source": [
    "MoneyPerMonth_by_Country = survey_money.groupby(['CountryLive']).mean()['MoneyPerMonth']"
   ]
  },
  {
   "cell_type": "code",
   "execution_count": 34,
   "metadata": {},
   "outputs": [
    {
     "data": {
      "text/plain": [
       "CountryLive\n",
       "United States of America    227.997996\n",
       "India                       135.100982\n",
       "United Kingdom               45.534443\n",
       "Canada                      113.510961\n",
       "Name: MoneyPerMonth, dtype: float64"
      ]
     },
     "execution_count": 34,
     "metadata": {},
     "output_type": "execute_result"
    }
   ],
   "source": [
    "four_countries = ['United States of America','India','United Kingdom', 'Canada']\n",
    "MoneyPerMonth_4Countries = MoneyPerMonth_by_Country[four_countries]\n",
    "MoneyPerMonth_4Countries"
   ]
  },
  {
   "cell_type": "code",
   "execution_count": 35,
   "metadata": {},
   "outputs": [
    {
     "data": {
      "image/png": "[encoded data removed]",
      "text/plain": [
       "<Figure size 720x360 with 1 Axes>"
      ]
     },
     "metadata": {
      "needs_background": "light"
     },
     "output_type": "display_data"
    }
   ],
   "source": [
    "plt.figure()\n",
    "MoneyPerMonth_4Countries.plot(kind = 'bar', figsize = (10,5), rot = 0)\n",
    "plt.title('Average Money Spent Per Month')\n",
    "plt.show()"
   ]
  },
  {
   "cell_type": "markdown",
   "metadata": {},
   "source": [
    "## Dealing with Extreme Outliers\n",
    "\n",
    "The result above for the United Kingdom and Canada are surprisingly low to the value for India. It might be that we don't have enoufh representative data, or we have some outliers. We will:\n",
    "- generate box plots to visualize for each country the distribution of the variable that describes how much money each participant had spent per month.\n",
    "- Eliminate the extreme outliers.\n",
    "- Recompute average money a student spends each month in the four countries."
   ]
  },
  {
   "cell_type": "code",
   "execution_count": 36,
   "metadata": {},
   "outputs": [],
   "source": [
    "survey_money_4Countries = survey_money[survey_money['CountryLive'].isin(four_countries)]"
   ]
  },
  {
   "cell_type": "code",
   "execution_count": 37,
   "metadata": {},
   "outputs": [],
   "source": [
    "import seaborn as sns"
   ]
  },
  {
   "cell_type": "code",
   "execution_count": 38,
   "metadata": {},
   "outputs": [
    {
     "data": {
      "image/png": "[encoded data removed]",
      "text/plain": [
       "<Figure size 720x360 with 1 Axes>"
      ]
     },
     "metadata": {
      "needs_background": "light"
     },
     "output_type": "display_data"
    }
   ],
   "source": [
    "plt.figure(figsize = (10,5))\n",
    "sns.boxplot(y = 'MoneyPerMonth', x = 'CountryLive', data = survey_money_4Countries)\n",
    "plt.title('Money Spent Per Month for Four Countries')\n",
    "plt.xlabel('Country')\n",
    "plt.ylabel('Money Per Month (US dollars)')\n",
    "plt.xticks(range(4), ['US', 'UK', 'India', 'Canada']) \n",
    "plt.show()"
   ]
  },
  {
   "cell_type": "markdown",
   "metadata": {},
   "source": [
    "It seems that $50000 and above are too big values, so we will remove those."
   ]
  },
  {
   "cell_type": "code",
   "execution_count": 39,
   "metadata": {},
   "outputs": [],
   "source": [
    "survey_money_4Countries = survey_money_4Countries[survey_money_4Countries['MoneyPerMonth'] < 50000]"
   ]
  },
  {
   "cell_type": "code",
   "execution_count": 40,
   "metadata": {},
   "outputs": [
    {
     "data": {
      "image/png": "[encoded data removed]",
      "text/plain": [
       "<Figure size 720x360 with 1 Axes>"
      ]
     },
     "metadata": {
      "needs_background": "light"
     },
     "output_type": "display_data"
    }
   ],
   "source": [
    "plt.figure(figsize = (10,5))\n",
    "sns.boxplot(y = 'MoneyPerMonth', x = 'CountryLive', data = survey_money_4Countries)\n",
    "plt.title('Money Spent Per Month for Four Countries')\n",
    "plt.xlabel('Country')\n",
    "plt.ylabel('Money Per Month (US dollars)')\n",
    "plt.xticks(range(4), ['US', 'UK', 'India', 'Canada']) \n",
    "plt.show()"
   ]
  },
  {
   "cell_type": "markdown",
   "metadata": {},
   "source": [
    "For India, we observe that values great than $2500 are outliers."
   ]
  },
  {
   "cell_type": "code",
   "execution_count": 41,
   "metadata": {},
   "outputs": [],
   "source": [
    "india_outliers = survey_money_4Countries[\n",
    "    (survey_money_4Countries['CountryLive'] == 'India') &\n",
    "    (survey_money_4Countries['MoneyPerMonth'] >= 2500)]"
   ]
  },
  {
   "cell_type": "code",
   "execution_count": 42,
   "metadata": {},
   "outputs": [],
   "source": [
    "# Remove the outliers for India\n",
    "survey_money_4Countries = survey_money_4Countries.drop(india_outliers.index)"
   ]
  },
  {
   "cell_type": "markdown",
   "metadata": {},
   "source": [
    "For US, we observe that values great than $6000 are outliers."
   ]
  },
  {
   "cell_type": "code",
   "execution_count": 43,
   "metadata": {},
   "outputs": [],
   "source": [
    "us_outliers = survey_money_4Countries[\n",
    "    (survey_money_4Countries['CountryLive'] == 'United States of America') &\n",
    "    (survey_money_4Countries['MoneyPerMonth'] >= 6000)\n",
    "]"
   ]
  },
  {
   "cell_type": "code",
   "execution_count": 44,
   "metadata": {},
   "outputs": [
    {
     "data": {
      "text/html": [
       "<div>\n",
       "<style scoped>\n",
       "    .dataframe tbody tr th:only-of-type {\n",
       "        vertical-align: middle;\n",
       "    }\n",
       "\n",
       "    .dataframe tbody tr th {\n",
       "        vertical-align: top;\n",
       "    }\n",
       "\n",
       "    .dataframe thead th {\n",
       "        text-align: right;\n",
       "    }\n",
       "</style>\n",
       "<table border=\"1\" class=\"dataframe\">\n",
       "  <thead>\n",
       "    <tr style=\"text-align: right;\">\n",
       "      <th></th>\n",
       "      <th>Age</th>\n",
       "      <th>AttendedBootcamp</th>\n",
       "      <th>BootcampFinish</th>\n",
       "      <th>BootcampLoanYesNo</th>\n",
       "      <th>BootcampName</th>\n",
       "      <th>BootcampRecommend</th>\n",
       "      <th>ChildrenNumber</th>\n",
       "      <th>CityPopulation</th>\n",
       "      <th>CommuteTime</th>\n",
       "      <th>CountryCitizen</th>\n",
       "      <th>...</th>\n",
       "      <th>JobRoleInterest</th>\n",
       "      <th>JobWherePref</th>\n",
       "      <th>LanguageAtHome</th>\n",
       "      <th>MaritalStatus</th>\n",
       "      <th>MoneyForLearning</th>\n",
       "      <th>MonthsProgramming</th>\n",
       "      <th>SchoolDegree</th>\n",
       "      <th>SchoolMajor</th>\n",
       "      <th>StudentDebtOwe</th>\n",
       "      <th>MoneyPerMonth</th>\n",
       "    </tr>\n",
       "  </thead>\n",
       "  <tbody>\n",
       "    <tr>\n",
       "      <th>718</th>\n",
       "      <td>26.0</td>\n",
       "      <td>1.0</td>\n",
       "      <td>0.0</td>\n",
       "      <td>0.0</td>\n",
       "      <td>The Coding Boot Camp at UCLA Extension</td>\n",
       "      <td>1.0</td>\n",
       "      <td>NaN</td>\n",
       "      <td>more than 1 million</td>\n",
       "      <td>15 to 29 minutes</td>\n",
       "      <td>United States of America</td>\n",
       "      <td>...</td>\n",
       "      <td>User Experience Designer, Full-Stack Web Devel...</td>\n",
       "      <td>in an office with other developers</td>\n",
       "      <td>English</td>\n",
       "      <td>single, never married</td>\n",
       "      <td>8000.0</td>\n",
       "      <td>1.0</td>\n",
       "      <td>bachelor's degree</td>\n",
       "      <td>Architecture</td>\n",
       "      <td>NaN</td>\n",
       "      <td>8000.000000</td>\n",
       "    </tr>\n",
       "    <tr>\n",
       "      <th>1222</th>\n",
       "      <td>32.0</td>\n",
       "      <td>1.0</td>\n",
       "      <td>0.0</td>\n",
       "      <td>0.0</td>\n",
       "      <td>The Iron Yard</td>\n",
       "      <td>1.0</td>\n",
       "      <td>NaN</td>\n",
       "      <td>between 100,000 and 1 million</td>\n",
       "      <td>NaN</td>\n",
       "      <td>United States of America</td>\n",
       "      <td>...</td>\n",
       "      <td>Front-End Web Developer,   Mobile Developer,  ...</td>\n",
       "      <td>in an office with other developers</td>\n",
       "      <td>English</td>\n",
       "      <td>single, never married</td>\n",
       "      <td>13000.0</td>\n",
       "      <td>2.0</td>\n",
       "      <td>bachelor's degree</td>\n",
       "      <td>Anthropology</td>\n",
       "      <td>NaN</td>\n",
       "      <td>6500.000000</td>\n",
       "    </tr>\n",
       "    <tr>\n",
       "      <th>3184</th>\n",
       "      <td>34.0</td>\n",
       "      <td>1.0</td>\n",
       "      <td>1.0</td>\n",
       "      <td>0.0</td>\n",
       "      <td>We Can Code IT</td>\n",
       "      <td>1.0</td>\n",
       "      <td>NaN</td>\n",
       "      <td>more than 1 million</td>\n",
       "      <td>Less than 15 minutes</td>\n",
       "      <td>NaN</td>\n",
       "      <td>...</td>\n",
       "      <td>Quality Assurance Engineer,   DevOps / SysAdmi...</td>\n",
       "      <td>in an office with other developers</td>\n",
       "      <td>English</td>\n",
       "      <td>single, never married</td>\n",
       "      <td>9000.0</td>\n",
       "      <td>0.0</td>\n",
       "      <td>some college credit, no degree</td>\n",
       "      <td>NaN</td>\n",
       "      <td>NaN</td>\n",
       "      <td>9000.000000</td>\n",
       "    </tr>\n",
       "    <tr>\n",
       "      <th>3930</th>\n",
       "      <td>31.0</td>\n",
       "      <td>0.0</td>\n",
       "      <td>NaN</td>\n",
       "      <td>NaN</td>\n",
       "      <td>NaN</td>\n",
       "      <td>NaN</td>\n",
       "      <td>NaN</td>\n",
       "      <td>between 100,000 and 1 million</td>\n",
       "      <td>NaN</td>\n",
       "      <td>United States of America</td>\n",
       "      <td>...</td>\n",
       "      <td>DevOps / SysAdmin,   Front-End Web Developer, ...</td>\n",
       "      <td>no preference</td>\n",
       "      <td>English</td>\n",
       "      <td>married or domestic partnership</td>\n",
       "      <td>65000.0</td>\n",
       "      <td>6.0</td>\n",
       "      <td>bachelor's degree</td>\n",
       "      <td>Biology</td>\n",
       "      <td>40000.0</td>\n",
       "      <td>10833.333333</td>\n",
       "    </tr>\n",
       "    <tr>\n",
       "      <th>6805</th>\n",
       "      <td>46.0</td>\n",
       "      <td>1.0</td>\n",
       "      <td>1.0</td>\n",
       "      <td>1.0</td>\n",
       "      <td>Sabio.la</td>\n",
       "      <td>0.0</td>\n",
       "      <td>NaN</td>\n",
       "      <td>between 100,000 and 1 million</td>\n",
       "      <td>NaN</td>\n",
       "      <td>United States of America</td>\n",
       "      <td>...</td>\n",
       "      <td>Full-Stack Web Developer, Game Developer,   Pr...</td>\n",
       "      <td>no preference</td>\n",
       "      <td>English</td>\n",
       "      <td>married or domestic partnership</td>\n",
       "      <td>15000.0</td>\n",
       "      <td>1.0</td>\n",
       "      <td>bachelor's degree</td>\n",
       "      <td>Business Administration and Management</td>\n",
       "      <td>45000.0</td>\n",
       "      <td>15000.000000</td>\n",
       "    </tr>\n",
       "  </tbody>\n",
       "</table>\n",
       "<p>5 rows × 60 columns</p>\n",
       "</div>"
      ],
      "text/plain": [
       "       Age  AttendedBootcamp  BootcampFinish  BootcampLoanYesNo  \\\n",
       "718   26.0               1.0             0.0                0.0   \n",
       "1222  32.0               1.0             0.0                0.0   \n",
       "3184  34.0               1.0             1.0                0.0   \n",
       "3930  31.0               0.0             NaN                NaN   \n",
       "6805  46.0               1.0             1.0                1.0   \n",
       "\n",
       "                                BootcampName  BootcampRecommend  \\\n",
       "718   The Coding Boot Camp at UCLA Extension                1.0   \n",
       "1222                           The Iron Yard                1.0   \n",
       "3184                          We Can Code IT                1.0   \n",
       "3930                                     NaN                NaN   \n",
       "6805                                Sabio.la                0.0   \n",
       "\n",
       "      ChildrenNumber                 CityPopulation           CommuteTime  \\\n",
       "718              NaN            more than 1 million      15 to 29 minutes   \n",
       "1222             NaN  between 100,000 and 1 million                   NaN   \n",
       "3184             NaN            more than 1 million  Less than 15 minutes   \n",
       "3930             NaN  between 100,000 and 1 million                   NaN   \n",
       "6805             NaN  between 100,000 and 1 million                   NaN   \n",
       "\n",
       "                CountryCitizen      ...       \\\n",
       "718   United States of America      ...        \n",
       "1222  United States of America      ...        \n",
       "3184                       NaN      ...        \n",
       "3930  United States of America      ...        \n",
       "6805  United States of America      ...        \n",
       "\n",
       "                                        JobRoleInterest  \\\n",
       "718   User Experience Designer, Full-Stack Web Devel...   \n",
       "1222  Front-End Web Developer,   Mobile Developer,  ...   \n",
       "3184  Quality Assurance Engineer,   DevOps / SysAdmi...   \n",
       "3930  DevOps / SysAdmin,   Front-End Web Developer, ...   \n",
       "6805  Full-Stack Web Developer, Game Developer,   Pr...   \n",
       "\n",
       "                            JobWherePref LanguageAtHome  \\\n",
       "718   in an office with other developers        English   \n",
       "1222  in an office with other developers        English   \n",
       "3184  in an office with other developers        English   \n",
       "3930                       no preference        English   \n",
       "6805                       no preference        English   \n",
       "\n",
       "                        MaritalStatus MoneyForLearning  MonthsProgramming  \\\n",
       "718             single, never married           8000.0                1.0   \n",
       "1222            single, never married          13000.0                2.0   \n",
       "3184            single, never married           9000.0                0.0   \n",
       "3930  married or domestic partnership          65000.0                6.0   \n",
       "6805  married or domestic partnership          15000.0                1.0   \n",
       "\n",
       "                        SchoolDegree                             SchoolMajor  \\\n",
       "718                bachelor's degree                            Architecture   \n",
       "1222               bachelor's degree                            Anthropology   \n",
       "3184  some college credit, no degree                                     NaN   \n",
       "3930               bachelor's degree                                 Biology   \n",
       "6805               bachelor's degree  Business Administration and Management   \n",
       "\n",
       "     StudentDebtOwe MoneyPerMonth  \n",
       "718             NaN   8000.000000  \n",
       "1222            NaN   6500.000000  \n",
       "3184            NaN   9000.000000  \n",
       "3930        40000.0  10833.333333  \n",
       "6805        45000.0  15000.000000  \n",
       "\n",
       "[5 rows x 60 columns]"
      ]
     },
     "execution_count": 44,
     "metadata": {},
     "output_type": "execute_result"
    }
   ],
   "source": [
    "us_outliers.head()"
   ]
  },
  {
   "cell_type": "markdown",
   "metadata": {},
   "source": [
    "For Canada, there is an extreme outlier which is about $5000."
   ]
  },
  {
   "cell_type": "code",
   "execution_count": 45,
   "metadata": {},
   "outputs": [],
   "source": [
    "canada_outliers = survey_money_4Countries[\n",
    "    (survey_money_4Countries['CountryLive'] =='Canada') &\n",
    "    (survey_money_4Countries['MoneyPerMonth'] > 4500)\n",
    "]"
   ]
  },
  {
   "cell_type": "code",
   "execution_count": 46,
   "metadata": {},
   "outputs": [
    {
     "data": {
      "text/html": [
       "<div>\n",
       "<style scoped>\n",
       "    .dataframe tbody tr th:only-of-type {\n",
       "        vertical-align: middle;\n",
       "    }\n",
       "\n",
       "    .dataframe tbody tr th {\n",
       "        vertical-align: top;\n",
       "    }\n",
       "\n",
       "    .dataframe thead th {\n",
       "        text-align: right;\n",
       "    }\n",
       "</style>\n",
       "<table border=\"1\" class=\"dataframe\">\n",
       "  <thead>\n",
       "    <tr style=\"text-align: right;\">\n",
       "      <th></th>\n",
       "      <th>Age</th>\n",
       "      <th>AttendedBootcamp</th>\n",
       "      <th>BootcampFinish</th>\n",
       "      <th>BootcampLoanYesNo</th>\n",
       "      <th>BootcampName</th>\n",
       "      <th>BootcampRecommend</th>\n",
       "      <th>ChildrenNumber</th>\n",
       "      <th>CityPopulation</th>\n",
       "      <th>CommuteTime</th>\n",
       "      <th>CountryCitizen</th>\n",
       "      <th>...</th>\n",
       "      <th>JobRoleInterest</th>\n",
       "      <th>JobWherePref</th>\n",
       "      <th>LanguageAtHome</th>\n",
       "      <th>MaritalStatus</th>\n",
       "      <th>MoneyForLearning</th>\n",
       "      <th>MonthsProgramming</th>\n",
       "      <th>SchoolDegree</th>\n",
       "      <th>SchoolMajor</th>\n",
       "      <th>StudentDebtOwe</th>\n",
       "      <th>MoneyPerMonth</th>\n",
       "    </tr>\n",
       "  </thead>\n",
       "  <tbody>\n",
       "    <tr>\n",
       "      <th>13659</th>\n",
       "      <td>24.0</td>\n",
       "      <td>1.0</td>\n",
       "      <td>0.0</td>\n",
       "      <td>0.0</td>\n",
       "      <td>Bloc.io</td>\n",
       "      <td>1.0</td>\n",
       "      <td>NaN</td>\n",
       "      <td>more than 1 million</td>\n",
       "      <td>30 to 44 minutes</td>\n",
       "      <td>Canada</td>\n",
       "      <td>...</td>\n",
       "      <td>Mobile Developer, Full-Stack Web Developer,   ...</td>\n",
       "      <td>from home</td>\n",
       "      <td>Yue (Cantonese) Chinese</td>\n",
       "      <td>single, never married</td>\n",
       "      <td>10000.0</td>\n",
       "      <td>2.0</td>\n",
       "      <td>bachelor's degree</td>\n",
       "      <td>Finance</td>\n",
       "      <td>NaN</td>\n",
       "      <td>5000.0</td>\n",
       "    </tr>\n",
       "  </tbody>\n",
       "</table>\n",
       "<p>1 rows × 60 columns</p>\n",
       "</div>"
      ],
      "text/plain": [
       "        Age  AttendedBootcamp  BootcampFinish  BootcampLoanYesNo BootcampName  \\\n",
       "13659  24.0               1.0             0.0                0.0      Bloc.io   \n",
       "\n",
       "       BootcampRecommend  ChildrenNumber       CityPopulation  \\\n",
       "13659                1.0             NaN  more than 1 million   \n",
       "\n",
       "            CommuteTime CountryCitizen      ...       \\\n",
       "13659  30 to 44 minutes         Canada      ...        \n",
       "\n",
       "                                         JobRoleInterest JobWherePref  \\\n",
       "13659  Mobile Developer, Full-Stack Web Developer,   ...    from home   \n",
       "\n",
       "                LanguageAtHome          MaritalStatus MoneyForLearning  \\\n",
       "13659  Yue (Cantonese) Chinese  single, never married          10000.0   \n",
       "\n",
       "       MonthsProgramming       SchoolDegree  SchoolMajor StudentDebtOwe  \\\n",
       "13659                2.0  bachelor's degree      Finance            NaN   \n",
       "\n",
       "      MoneyPerMonth  \n",
       "13659        5000.0  \n",
       "\n",
       "[1 rows x 60 columns]"
      ]
     },
     "execution_count": 46,
     "metadata": {},
     "output_type": "execute_result"
    }
   ],
   "source": [
    "canada_outliers"
   ]
  },
  {
   "cell_type": "markdown",
   "metadata": {},
   "source": [
    "For some outliers of US and Canada, the participant had been programming for no more than two months when he completed the survey. Such participants may have paid a large sum of money in the beginning to enroll in a bootcamp."
   ]
  },
  {
   "cell_type": "code",
   "execution_count": 47,
   "metadata": {},
   "outputs": [],
   "source": [
    "survey_money_4Countries = survey_money_4Countries.drop(us_outliers.index)\n",
    "survey_money_4Countries = survey_money_4Countries.drop(canada_outliers.index)"
   ]
  },
  {
   "cell_type": "code",
   "execution_count": 48,
   "metadata": {},
   "outputs": [
    {
     "data": {
      "image/png": "[encoded data removed]",
      "text/plain": [
       "<Figure size 720x360 with 1 Axes>"
      ]
     },
     "metadata": {
      "needs_background": "light"
     },
     "output_type": "display_data"
    }
   ],
   "source": [
    "plt.figure(figsize = (10,5))\n",
    "sns.boxplot(y = 'MoneyPerMonth', x = 'CountryLive', data = survey_money_4Countries)\n",
    "plt.title('Money Spent Per Month for Four Countries')\n",
    "plt.xlabel('Country')\n",
    "plt.ylabel('Money Per Month (US dollars)')\n",
    "plt.xticks(range(4), ['US', 'UK', 'India', 'Canada']) \n",
    "plt.show()"
   ]
  },
  {
   "cell_type": "code",
   "execution_count": 49,
   "metadata": {},
   "outputs": [
    {
     "data": {
      "text/plain": [
       "CountryLive\n",
       "Canada                       93.065400\n",
       "India                        65.758763\n",
       "United Kingdom               45.534443\n",
       "United States of America    142.654608\n",
       "Name: MoneyPerMonth, dtype: float64"
      ]
     },
     "execution_count": 49,
     "metadata": {},
     "output_type": "execute_result"
    }
   ],
   "source": [
    "survey_money_4Countries.groupby(['CountryLive']).mean()['MoneyPerMonth']"
   ]
  },
  {
   "cell_type": "markdown",
   "metadata": {},
   "source": [
    "## Choosing the Two Best Markets to Advertise In"
   ]
  },
  {
   "cell_type": "code",
   "execution_count": 50,
   "metadata": {},
   "outputs": [
    {
     "data": {
      "image/png": "[encoded data removed]",
      "text/plain": [
       "<Figure size 720x360 with 1 Axes>"
      ]
     },
     "metadata": {
      "needs_background": "light"
     },
     "output_type": "display_data"
    }
   ],
   "source": [
    "plt.figure()\n",
    "survey_money_4Countries.groupby(['CountryLive']).mean()['MoneyPerMonth'].plot(kind = 'bar', figsize = (10,5), rot = 0)\n",
    "plt.title('Average Money Spent Per Month After Remove Outliers')\n",
    "plt.show()"
   ]
  },
  {
   "cell_type": "markdown",
   "metadata": {},
   "source": [
    "From the above figure, we can see that Canada seems to be the best second choice because people there are willing to pay about $95 per month."
   ]
  },
  {
   "cell_type": "code",
   "execution_count": 51,
   "metadata": {},
   "outputs": [
    {
     "data": {
      "text/plain": [
       "Text(0.5,1,'Percentage of Participants in each Country')"
      ]
     },
     "execution_count": 51,
     "metadata": {},
     "output_type": "execute_result"
    },
    {
     "data": {
      "image/png": "[encoded data removed]",
      "text/plain": [
       "<Figure size 720x360 with 1 Axes>"
      ]
     },
     "metadata": {
      "needs_background": "light"
     },
     "output_type": "display_data"
    }
   ],
   "source": [
    "survey_money_4Countries['CountryLive'].value_counts(normalize = True).plot(kind = 'bar', figsize = (10,5), rot = 0)\n",
    "plt.title('Percentage of Participants in each Country')"
   ]
  },
  {
   "cell_type": "markdown",
   "metadata": {},
   "source": [
    "From this figure, we can see that India could be the second choice too since there are more people there want to participate."
   ]
  },
  {
   "cell_type": "markdown",
   "metadata": {},
   "source": [
    "Conclusion: we can see the the US is the best market to advertise in, the other two choices are Canada and India. We can not be sure which market is better, so maybe more discussions should be made at this point."
   ]
  },
  {
   "cell_type": "code",
   "execution_count": null,
   "metadata": {},
   "outputs": [],
   "source": []
  }
 ],
 "metadata": {
  "kernelspec": {
   "display_name": "Python 2",
   "language": "python",
   "name": "python2"
  },
  "language_info": {
   "codemirror_mode": {
    "name": "ipython",
    "version": 2
   },
   "file_extension": ".py",
   "mimetype": "text/x-python",
   "name": "python",
   "nbconvert_exporter": "python",
   "pygments_lexer": "ipython2",
   "version": "2.7.15"
  }
 },
 "nbformat": 4,
 "nbformat_minor": 2
}
