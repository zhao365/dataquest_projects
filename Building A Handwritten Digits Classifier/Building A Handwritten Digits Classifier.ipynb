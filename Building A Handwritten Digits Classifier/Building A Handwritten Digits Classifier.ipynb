{
 "cells": [
  {
   "cell_type": "markdown",
   "metadata": {
    "collapsed": true
   },
   "source": [
    "# Building A Handwritten Digits Classifier\n",
    "\n",
    "In this project, we will build models that can classify handwritten digits."
   ]
  },
  {
   "cell_type": "markdown",
   "metadata": {},
   "source": [
    "## Workin with Image Data\n",
    "Scikit-learn contains a number of datasets pre-loaded with the library. The load_digits() function returns a copy of the hand-written digits dataset from UCI."
   ]
  },
  {
   "cell_type": "code",
   "execution_count": 1,
   "metadata": {
    "collapsed": true
   },
   "outputs": [],
   "source": [
    "import pandas as pd\n",
    "import numpy as np\n",
    "import matplotlib.pyplot as plt\n",
    "%matplotlib inline"
   ]
  },
  {
   "cell_type": "code",
   "execution_count": 2,
   "metadata": {
    "collapsed": true
   },
   "outputs": [],
   "source": [
    "from sklearn.datasets import load_digits\n",
    "digits_data = load_digits()"
   ]
  },
  {
   "cell_type": "code",
   "execution_count": 3,
   "metadata": {
    "collapsed": false
   },
   "outputs": [
    {
     "data": {
      "text/plain": [
       "dict_keys(['target', 'target_names', 'images', 'data', 'DESCR'])"
      ]
     },
     "execution_count": 3,
     "metadata": {},
     "output_type": "execute_result"
    }
   ],
   "source": [
    "digits_data.keys()"
   ]
  },
  {
   "cell_type": "code",
   "execution_count": 4,
   "metadata": {
    "collapsed": false
   },
   "outputs": [
    {
     "data": {
      "text/plain": [
       "(1797, 64)"
      ]
     },
     "execution_count": 4,
     "metadata": {},
     "output_type": "execute_result"
    }
   ],
   "source": [
    "digits_data['data'].shape"
   ]
  },
  {
   "cell_type": "code",
   "execution_count": 5,
   "metadata": {
    "collapsed": false
   },
   "outputs": [
    {
     "data": {
      "text/plain": [
       "(1797, 8, 8)"
      ]
     },
     "execution_count": 5,
     "metadata": {},
     "output_type": "execute_result"
    }
   ],
   "source": [
    "digits_data['images'].shape"
   ]
  },
  {
   "cell_type": "code",
   "execution_count": 6,
   "metadata": {
    "collapsed": false
   },
   "outputs": [
    {
     "data": {
      "text/html": [
       "<div>\n",
       "<style scoped>\n",
       "    .dataframe tbody tr th:only-of-type {\n",
       "        vertical-align: middle;\n",
       "    }\n",
       "\n",
       "    .dataframe tbody tr th {\n",
       "        vertical-align: top;\n",
       "    }\n",
       "\n",
       "    .dataframe thead th {\n",
       "        text-align: right;\n",
       "    }\n",
       "</style>\n",
       "<table border=\"1\" class=\"dataframe\">\n",
       "  <thead>\n",
       "    <tr style=\"text-align: right;\">\n",
       "      <th></th>\n",
       "      <th>0</th>\n",
       "      <th>1</th>\n",
       "      <th>2</th>\n",
       "      <th>3</th>\n",
       "      <th>4</th>\n",
       "      <th>5</th>\n",
       "      <th>6</th>\n",
       "      <th>7</th>\n",
       "      <th>8</th>\n",
       "      <th>9</th>\n",
       "      <th>...</th>\n",
       "      <th>54</th>\n",
       "      <th>55</th>\n",
       "      <th>56</th>\n",
       "      <th>57</th>\n",
       "      <th>58</th>\n",
       "      <th>59</th>\n",
       "      <th>60</th>\n",
       "      <th>61</th>\n",
       "      <th>62</th>\n",
       "      <th>63</th>\n",
       "    </tr>\n",
       "  </thead>\n",
       "  <tbody>\n",
       "    <tr>\n",
       "      <th>0</th>\n",
       "      <td>0.0</td>\n",
       "      <td>0.0</td>\n",
       "      <td>5.0</td>\n",
       "      <td>13.0</td>\n",
       "      <td>9.0</td>\n",
       "      <td>1.0</td>\n",
       "      <td>0.0</td>\n",
       "      <td>0.0</td>\n",
       "      <td>0.0</td>\n",
       "      <td>0.0</td>\n",
       "      <td>...</td>\n",
       "      <td>0.0</td>\n",
       "      <td>0.0</td>\n",
       "      <td>0.0</td>\n",
       "      <td>0.0</td>\n",
       "      <td>6.0</td>\n",
       "      <td>13.0</td>\n",
       "      <td>10.0</td>\n",
       "      <td>0.0</td>\n",
       "      <td>0.0</td>\n",
       "      <td>0.0</td>\n",
       "    </tr>\n",
       "    <tr>\n",
       "      <th>1</th>\n",
       "      <td>0.0</td>\n",
       "      <td>0.0</td>\n",
       "      <td>0.0</td>\n",
       "      <td>12.0</td>\n",
       "      <td>13.0</td>\n",
       "      <td>5.0</td>\n",
       "      <td>0.0</td>\n",
       "      <td>0.0</td>\n",
       "      <td>0.0</td>\n",
       "      <td>0.0</td>\n",
       "      <td>...</td>\n",
       "      <td>0.0</td>\n",
       "      <td>0.0</td>\n",
       "      <td>0.0</td>\n",
       "      <td>0.0</td>\n",
       "      <td>0.0</td>\n",
       "      <td>11.0</td>\n",
       "      <td>16.0</td>\n",
       "      <td>10.0</td>\n",
       "      <td>0.0</td>\n",
       "      <td>0.0</td>\n",
       "    </tr>\n",
       "    <tr>\n",
       "      <th>2</th>\n",
       "      <td>0.0</td>\n",
       "      <td>0.0</td>\n",
       "      <td>0.0</td>\n",
       "      <td>4.0</td>\n",
       "      <td>15.0</td>\n",
       "      <td>12.0</td>\n",
       "      <td>0.0</td>\n",
       "      <td>0.0</td>\n",
       "      <td>0.0</td>\n",
       "      <td>0.0</td>\n",
       "      <td>...</td>\n",
       "      <td>5.0</td>\n",
       "      <td>0.0</td>\n",
       "      <td>0.0</td>\n",
       "      <td>0.0</td>\n",
       "      <td>0.0</td>\n",
       "      <td>3.0</td>\n",
       "      <td>11.0</td>\n",
       "      <td>16.0</td>\n",
       "      <td>9.0</td>\n",
       "      <td>0.0</td>\n",
       "    </tr>\n",
       "    <tr>\n",
       "      <th>3</th>\n",
       "      <td>0.0</td>\n",
       "      <td>0.0</td>\n",
       "      <td>7.0</td>\n",
       "      <td>15.0</td>\n",
       "      <td>13.0</td>\n",
       "      <td>1.0</td>\n",
       "      <td>0.0</td>\n",
       "      <td>0.0</td>\n",
       "      <td>0.0</td>\n",
       "      <td>8.0</td>\n",
       "      <td>...</td>\n",
       "      <td>9.0</td>\n",
       "      <td>0.0</td>\n",
       "      <td>0.0</td>\n",
       "      <td>0.0</td>\n",
       "      <td>7.0</td>\n",
       "      <td>13.0</td>\n",
       "      <td>13.0</td>\n",
       "      <td>9.0</td>\n",
       "      <td>0.0</td>\n",
       "      <td>0.0</td>\n",
       "    </tr>\n",
       "    <tr>\n",
       "      <th>4</th>\n",
       "      <td>0.0</td>\n",
       "      <td>0.0</td>\n",
       "      <td>0.0</td>\n",
       "      <td>1.0</td>\n",
       "      <td>11.0</td>\n",
       "      <td>0.0</td>\n",
       "      <td>0.0</td>\n",
       "      <td>0.0</td>\n",
       "      <td>0.0</td>\n",
       "      <td>0.0</td>\n",
       "      <td>...</td>\n",
       "      <td>0.0</td>\n",
       "      <td>0.0</td>\n",
       "      <td>0.0</td>\n",
       "      <td>0.0</td>\n",
       "      <td>0.0</td>\n",
       "      <td>2.0</td>\n",
       "      <td>16.0</td>\n",
       "      <td>4.0</td>\n",
       "      <td>0.0</td>\n",
       "      <td>0.0</td>\n",
       "    </tr>\n",
       "  </tbody>\n",
       "</table>\n",
       "<p>5 rows × 64 columns</p>\n",
       "</div>"
      ],
      "text/plain": [
       "    0    1    2     3     4     5    6    7    8    9  ...    54   55   56  \\\n",
       "0  0.0  0.0  5.0  13.0   9.0   1.0  0.0  0.0  0.0  0.0 ...   0.0  0.0  0.0   \n",
       "1  0.0  0.0  0.0  12.0  13.0   5.0  0.0  0.0  0.0  0.0 ...   0.0  0.0  0.0   \n",
       "2  0.0  0.0  0.0   4.0  15.0  12.0  0.0  0.0  0.0  0.0 ...   5.0  0.0  0.0   \n",
       "3  0.0  0.0  7.0  15.0  13.0   1.0  0.0  0.0  0.0  8.0 ...   9.0  0.0  0.0   \n",
       "4  0.0  0.0  0.0   1.0  11.0   0.0  0.0  0.0  0.0  0.0 ...   0.0  0.0  0.0   \n",
       "\n",
       "    57   58    59    60    61   62   63  \n",
       "0  0.0  6.0  13.0  10.0   0.0  0.0  0.0  \n",
       "1  0.0  0.0  11.0  16.0  10.0  0.0  0.0  \n",
       "2  0.0  0.0   3.0  11.0  16.0  9.0  0.0  \n",
       "3  0.0  7.0  13.0  13.0   9.0  0.0  0.0  \n",
       "4  0.0  0.0   2.0  16.0   4.0  0.0  0.0  \n",
       "\n",
       "[5 rows x 64 columns]"
      ]
     },
     "execution_count": 6,
     "metadata": {},
     "output_type": "execute_result"
    }
   ],
   "source": [
    "data = pd.DataFrame(digits_data['data'])\n",
    "data.head()"
   ]
  },
  {
   "cell_type": "code",
   "execution_count": 7,
   "metadata": {
    "collapsed": false
   },
   "outputs": [],
   "source": [
    "target = digits_data['target']"
   ]
  },
  {
   "cell_type": "code",
   "execution_count": 8,
   "metadata": {
    "collapsed": false
   },
   "outputs": [
    {
     "data": {
      "image/png": "[encoded data removed]",
      "text/plain": [
       "<matplotlib.figure.Figure at 0x7fa35e468048>"
      ]
     },
     "metadata": {},
     "output_type": "display_data"
    }
   ],
   "source": [
    "# visualize some of the images in the dataset\n",
    "fig,axes = plt.subplots(2,4)\n",
    "for i in range(4):\n",
    "    image = data.iloc[i*100]\n",
    "    image_reshape = image.values.reshape(8,8)\n",
    "    axes[0,i].imshow(image_reshape,cmap = 'gray_r')\n",
    "for i in range(4):\n",
    "    image = data.iloc[i*100+1000]\n",
    "    image_reshape = image.values.reshape(8,8)\n",
    "    axes[1,i].imshow(image_reshape,cmap = 'gray_r')\n",
    "plt.show()"
   ]
  },
  {
   "cell_type": "markdown",
   "metadata": {},
   "source": [
    "## K-Nearest Neighbors Model\n",
    "While linear and logistic regression models make assumptions about the linearity between the features and the output labels, the k-nearest neighbors algorithm make no such assumption. This allows them to capture nonlinearity in the data. "
   ]
  },
  {
   "cell_type": "code",
   "execution_count": 9,
   "metadata": {
    "collapsed": false
   },
   "outputs": [],
   "source": [
    "# split data into training and testing data set\n",
    "np.random.seed(30)\n",
    "index_shuffled = np.random.permutation(data.index)\n",
    "row_max = int(len(data)/2)\n",
    "train_features = data.loc[index_shuffled[:row_max]].copy()\n",
    "test_features = data.loc[index_shuffled[row_max:]].copy()\n",
    "train_labels = target[index_shuffled[:row_max]]\n",
    "test_labels = target[index_shuffled[row_max:]]"
   ]
  },
  {
   "cell_type": "code",
   "execution_count": 10,
   "metadata": {
    "collapsed": false
   },
   "outputs": [],
   "source": [
    "# construct a knn model\n",
    "from sklearn.neighbors import KNeighborsClassifier\n",
    "def train(nneighbors, train_features, train_labels):\n",
    "    knn = KNeighborsClassifier(n_neighbors = nneighbors)\n",
    "    knn.fit(train_features,train_labels)\n",
    "    return knn"
   ]
  },
  {
   "cell_type": "code",
   "execution_count": 11,
   "metadata": {
    "collapsed": true
   },
   "outputs": [],
   "source": [
    "# calculate the accuracy of a model on a data set\n",
    "from sklearn.metrics import accuracy_score\n",
    "def test(model, features, labels):\n",
    "    predictions = model.predict(features)\n",
    "    accuracy = accuracy_score(labels, predictions)\n",
    "    return accuracy"
   ]
  },
  {
   "cell_type": "code",
   "execution_count": 12,
   "metadata": {
    "collapsed": false
   },
   "outputs": [
    {
     "data": {
      "text/plain": [
       "0.982202447163515"
      ]
     },
     "execution_count": 12,
     "metadata": {},
     "output_type": "execute_result"
    }
   ],
   "source": [
    "# train a knn model using 5 nearest observations\n",
    "model = train(5,train_features,train_labels)\n",
    "accuracy = test(model,test_features,test_labels)\n",
    "accuracy"
   ]
  },
  {
   "cell_type": "code",
   "execution_count": 13,
   "metadata": {
    "collapsed": true
   },
   "outputs": [],
   "source": [
    "# use kfold to do 4-fold cross validation\n",
    "from sklearn.model_selection import KFold\n",
    "def cross_validation(data, target,nneighbors):\n",
    "    kf = KFold(n_splits=4,random_state=30, shuffle=True)\n",
    "    train_accuracy_scores = []\n",
    "    test_accuracy_scores = []\n",
    "    for train_index, test_index in kf.split(data):\n",
    "        train_features = data.loc[train_index]\n",
    "        test_features = data.loc[test_index]\n",
    "        train_labels = target[train_index]\n",
    "        test_labels = target[test_index]\n",
    "        model = train(nneighbors,train_features,train_labels)\n",
    "        test_accuracy = test(model,test_features,test_labels)\n",
    "        train_accuracy = test(model,train_features, train_labels)\n",
    "        train_accuracy_scores.append(train_accuracy)\n",
    "        test_accuracy_scores.append(test_accuracy)\n",
    "    train_accuracy_avg = np.mean(train_accuracy_scores)\n",
    "    test_accuracy_avg = np.mean(test_accuracy_scores)\n",
    "    return train_accuracy_avg, test_accuracy_avg"
   ]
  },
  {
   "cell_type": "code",
   "execution_count": 14,
   "metadata": {
    "collapsed": true
   },
   "outputs": [],
   "source": [
    "import time"
   ]
  },
  {
   "cell_type": "code",
   "execution_count": 15,
   "metadata": {
    "collapsed": false
   },
   "outputs": [],
   "source": [
    "# train knn models using cross validation to change the number of neighbors.\n",
    "t = time.time()\n",
    "nneighbors_list = list(range(1,10))\n",
    "train_accuracy_nneighbors = []\n",
    "test_accuracy_nneighbors = []\n",
    "for nneighbors in nneighbors_list:\n",
    "    train_accuracy_avg,test_accuracy_avg = cross_validation(data,target,nneighbors)\n",
    "    train_accuracy_nneighbors.append(train_accuracy_avg)\n",
    "    test_accuracy_nneighbors.append(test_accuracy_avg)\n",
    "elapsed = time.time() - t"
   ]
  },
  {
   "cell_type": "code",
   "execution_count": 16,
   "metadata": {
    "collapsed": false
   },
   "outputs": [
    {
     "name": "stdout",
     "output_type": "stream",
     "text": [
      "time to train knn models with cross validation:\n",
      "9.468779802322388 s\n",
      "mean accuracy on train sets:\n",
      "0.9909313867673362\n",
      "mean accuracy on test sets\n",
      "0.983799664549479\n"
     ]
    }
   ],
   "source": [
    "print('time to train knn models with cross validation:')\n",
    "print(elapsed,'s')\n",
    "print('mean accuracy on train sets:')\n",
    "print(np.mean(train_accuracy_nneighbors))\n",
    "print('mean accuracy on test sets')\n",
    "print(np.mean(test_accuracy_nneighbors))"
   ]
  },
  {
   "cell_type": "code",
   "execution_count": 17,
   "metadata": {
    "collapsed": false
   },
   "outputs": [
    {
     "data": {
      "image/png": "[encoded data removed]",
      "text/plain": [
       "<matplotlib.figure.Figure at 0x7fa35975c278>"
      ]
     },
     "metadata": {},
     "output_type": "display_data"
    }
   ],
   "source": [
    "# plot accuracy versus number of neighbors with knn models\n",
    "plt.plot(nneighbors_list,train_accuracy_nneighbors)\n",
    "plt.plot(nneighbors_list,test_accuracy_nneighbors)\n",
    "plt.legend(['train','test'])\n",
    "plt.xlabel('n_neighbors')\n",
    "plt.ylabel('accuracy')\n",
    "plt.title('KNN models: accuracy vs n_neighbors')\n",
    "plt.show()"
   ]
  },
  {
   "cell_type": "markdown",
   "metadata": {},
   "source": [
    "There are a few downsides to using k-nearest neighbors:\n",
    "\n",
    "- high memory usage (for each new unseen observation, many comparisons need to be made to seen observations)\n",
    "- no model representation to debug and explore\n",
    "\n",
    "Let's now try a neural network with a single hidden layer. Use the MLPClassifier package from scikit-learn."
   ]
  },
  {
   "cell_type": "markdown",
   "metadata": {},
   "source": [
    "## Neural Network with one hidden layer\n",
    "\n",
    "We will using 4-fold cross validation to train and test neural network models using a single hidden layer of 8,16,32,64,128 neurons"
   ]
  },
  {
   "cell_type": "code",
   "execution_count": 18,
   "metadata": {
    "collapsed": true
   },
   "outputs": [],
   "source": [
    "# with the pipeline to construct neural network models with one hidden layer\n",
    "# use cross validation to tune number of neurons for neural network model\n",
    "from sklearn.neural_network import MLPClassifier\n",
    "def train_nn(nneurons, train_features, train_labels):\n",
    "    mlp = MLPClassifier(hidden_layer_sizes = (nneurons,))\n",
    "    mlp.fit(train_features,train_labels)\n",
    "    return mlp\n",
    "def test(model, features, labels):\n",
    "    predictions = model.predict(features)\n",
    "    accuracy = accuracy_score(labels, predictions)\n",
    "    return accuracy\n",
    "def cross_validation(data, target,nneurons):\n",
    "    kf = KFold(n_splits=4,random_state=30, shuffle=True)\n",
    "    test_accuracy_scores = []\n",
    "    train_accuracy_scores = []\n",
    "    for train_index, test_index in kf.split(data):\n",
    "        train_features = data.loc[train_index]\n",
    "        test_features = data.loc[test_index]\n",
    "        train_labels = target[train_index]\n",
    "        test_labels = target[test_index]\n",
    "        model = train_nn(nneurons,train_features,train_labels)\n",
    "        test_accuracy = test(model,test_features,test_labels)\n",
    "        train_accuracy = test(model,train_features, train_labels)\n",
    "        test_accuracy_scores.append(test_accuracy)\n",
    "        train_accuracy_scores.append(train_accuracy)\n",
    "    test_accuracy_avg = np.mean(test_accuracy_scores)\n",
    "    train_accuracy_avg = np.mean(train_accuracy_scores)\n",
    "    return train_accuracy_avg, test_accuracy_avg"
   ]
  },
  {
   "cell_type": "code",
   "execution_count": 19,
   "metadata": {
    "collapsed": false
   },
   "outputs": [
    {
     "name": "stderr",
     "output_type": "stream",
     "text": [
      "/dataquest/system/env/python3/lib/python3.4/site-packages/sklearn/neural_network/multilayer_perceptron.py:563: ConvergenceWarning:\n",
      "\n",
      "Stochastic Optimizer: Maximum iterations reached and the optimization hasn't converged yet.\n",
      "\n"
     ]
    }
   ],
   "source": [
    "# train neural network models\n",
    "t = time.time()\n",
    "nneurons_list = [8, 16, 32, 64, 128]\n",
    "train_accuracy_nneurons = []\n",
    "test_accuracy_nneurons = []\n",
    "for nneurons in nneurons_list:\n",
    "    train_accuracy_avg,test_accuracy_avg = cross_validation(data,target,nneurons)\n",
    "    train_accuracy_nneurons.append(train_accuracy_avg)\n",
    "    test_accuracy_nneurons.append(test_accuracy_avg)\n",
    "elapsed = time.time() - t"
   ]
  },
  {
   "cell_type": "code",
   "execution_count": 20,
   "metadata": {
    "collapsed": false
   },
   "outputs": [
    {
     "name": "stdout",
     "output_type": "stream",
     "text": [
      "time to train neural network models with single hidden layer using cross validation:\n",
      "260.7039542198181 s\n",
      "mean accuracy on train sets:\n",
      "0.9938787204888764\n",
      "mean accuracy on test sets\n",
      "0.9597047760455333\n"
     ]
    }
   ],
   "source": [
    "print('time to train neural network models with single hidden layer using cross validation:')\n",
    "print(elapsed,'s')\n",
    "print('mean accuracy on train sets:')\n",
    "print(np.mean(train_accuracy_nneurons))\n",
    "print('mean accuracy on test sets')\n",
    "print(np.mean(test_accuracy_nneurons))"
   ]
  },
  {
   "cell_type": "code",
   "execution_count": 21,
   "metadata": {
    "collapsed": false
   },
   "outputs": [
    {
     "data": {
      "image/png": "[encoded data removed]",
      "text/plain": [
       "<matplotlib.figure.Figure at 0x7fa359673208>"
      ]
     },
     "metadata": {},
     "output_type": "display_data"
    }
   ],
   "source": [
    "# plot accuracy versus number of neurons with neural network models\n",
    "plt.plot(nneurons_list,train_accuracy_nneurons)\n",
    "plt.plot(nneurons_list,test_accuracy_nneurons)\n",
    "plt.legend(['train_accuracy','test_accuracy'], loc = 'lower right')\n",
    "plt.xlabel('n_neurons')\n",
    "plt.ylabel('accuracy')\n",
    "plt.title('neural network models using single hidden layer\\n accuracy vs number of neurons')\n",
    "plt.show()"
   ]
  },
  {
   "cell_type": "markdown",
   "metadata": {
    "collapsed": true
   },
   "source": [
    "The accuracy of neural network models increases from 0.93 to 0.97 approximately as number of neurons changes from 8 to 128, but the models overfit the data since the accuracy of models on training set almost reaches 1 when there are 16 neurons or more.\n",
    "And it seems that neural network models do not perform better than knn models whose accuracy can achive 0.98 from previous experiments."
   ]
  },
  {
   "cell_type": "markdown",
   "metadata": {},
   "source": [
    "## Neural Network with Two Hidden Layers"
   ]
  },
  {
   "cell_type": "code",
   "execution_count": 22,
   "metadata": {
    "collapsed": true
   },
   "outputs": [],
   "source": [
    "#construct neural network models with two hidden layers\n",
    "def train_nn_2(nneurons, train_features, train_labels):\n",
    "    mlp = MLPClassifier(hidden_layer_sizes = (nneurons, nneurons))\n",
    "    mlp.fit(train_features,train_labels)\n",
    "    return mlp\n",
    "def test(model, features, labels):\n",
    "    predictions = model.predict(features)\n",
    "    accuracy = accuracy_score(labels, predictions)\n",
    "    return accuracy\n",
    "def cross_validation(data, target,nneurons):\n",
    "    kf = KFold(n_splits=4,random_state=30, shuffle=True)\n",
    "    test_accuracy_scores = []\n",
    "    train_accuracy_scores = []\n",
    "    for train_index, test_index in kf.split(data):\n",
    "        train_features = data.loc[train_index]\n",
    "        test_features = data.loc[test_index]\n",
    "        train_labels = target[train_index]\n",
    "        test_labels = target[test_index]\n",
    "        model = train_nn_2(nneurons,train_features,train_labels)\n",
    "        test_accuracy = test(model,test_features,test_labels)\n",
    "        train_accuracy = test(model,train_features, train_labels)\n",
    "        test_accuracy_scores.append(test_accuracy)\n",
    "        train_accuracy_scores.append(train_accuracy)\n",
    "    test_accuracy_avg = np.mean(test_accuracy_scores)\n",
    "    train_accuracy_avg = np.mean(train_accuracy_scores)\n",
    "    return train_accuracy_avg, test_accuracy_avg"
   ]
  },
  {
   "cell_type": "code",
   "execution_count": 24,
   "metadata": {
    "collapsed": false
   },
   "outputs": [
    {
     "name": "stderr",
     "output_type": "stream",
     "text": [
      "/dataquest/system/env/python3/lib/python3.4/site-packages/sklearn/neural_network/multilayer_perceptron.py:563: ConvergenceWarning:\n",
      "\n",
      "Stochastic Optimizer: Maximum iterations reached and the optimization hasn't converged yet.\n",
      "\n"
     ]
    }
   ],
   "source": [
    "# train models\n",
    "t = time.time()\n",
    "nneurons_list = [8,16,32,64,128]\n",
    "train_accuracy_nneurons = []\n",
    "test_accuracy_nneurons = []\n",
    "for nneurons in nneurons_list:\n",
    "    train_accuracy_avg,test_accuracy_avg = cross_validation(data,target,nneurons)\n",
    "    train_accuracy_nneurons.append(train_accuracy_avg)\n",
    "    test_accuracy_nneurons.append(test_accuracy_avg)\n",
    "elapsed = time.time() - t"
   ]
  },
  {
   "cell_type": "code",
   "execution_count": 25,
   "metadata": {
    "collapsed": false
   },
   "outputs": [
    {
     "name": "stdout",
     "output_type": "stream",
     "text": [
      "time to train neural network models with two hidden layers using cross validation:\n",
      "311.5720498561859 s\n",
      "mean accuracy on train sets:\n",
      "0.9926178131863532\n",
      "mean accuracy on test sets\n",
      "0.9557008166295471\n"
     ]
    }
   ],
   "source": [
    "print('time to train neural network models with two hidden layers using cross validation:')\n",
    "print(elapsed, 's')\n",
    "print('mean accuracy on train sets:')\n",
    "print(np.mean(train_accuracy_nneurons))\n",
    "print('mean accuracy on test sets')\n",
    "print(np.mean(test_accuracy_nneurons))"
   ]
  },
  {
   "cell_type": "code",
   "execution_count": 26,
   "metadata": {
    "collapsed": false
   },
   "outputs": [
    {
     "data": {
      "image/png": "[encoded data removed]",
      "text/plain": [
       "<matplotlib.figure.Figure at 0x7fa3595de358>"
      ]
     },
     "metadata": {},
     "output_type": "display_data"
    }
   ],
   "source": [
    "# plot accuracy versus number of neurons with neural network models\n",
    "plt.plot(nneurons_list,train_accuracy_nneurons)\n",
    "plt.plot(nneurons_list,test_accuracy_nneurons)\n",
    "plt.legend(['train_accuracy','test_accuracy'], loc = 'lower right')\n",
    "plt.xlabel('n_neurons')\n",
    "plt.ylabel('accuracy')\n",
    "plt.title('neural network models using two hidden layers\\n accuracy vs number of neurons')\n",
    "plt.show()"
   ]
  },
  {
   "cell_type": "markdown",
   "metadata": {},
   "source": [
    "the accuracy of neural network models with two hidden layers is about 0.97, and the models tend to overfit. "
   ]
  },
  {
   "cell_type": "markdown",
   "metadata": {},
   "source": [
    "## Neural Network With Three Hidden Layers\n",
    "\n",
    "Using more hidden layers is known to increase the amount of overfitting that happens. To help us prevent overfitting, let's increase the number of folds we use for k-fold cross validation to 6 while testing networks with 3 hidden layers."
   ]
  },
  {
   "cell_type": "code",
   "execution_count": 27,
   "metadata": {
    "collapsed": true
   },
   "outputs": [],
   "source": [
    "#construct neural network models with two hidden layers\n",
    "def train_nn_3(nneurons, train_features, train_labels):\n",
    "    mlp = MLPClassifier(hidden_layer_sizes = (nneurons, nneurons,nneurons))\n",
    "    mlp.fit(train_features,train_labels)\n",
    "    return mlp\n",
    "def test(model, features, labels):\n",
    "    predictions = model.predict(features)\n",
    "    accuracy = accuracy_score(labels, predictions)\n",
    "    return accuracy\n",
    "def cross_validation(data, target,nneurons):\n",
    "    kf = KFold(n_splits=6,random_state=30, shuffle=True)\n",
    "    test_accuracy_scores = []\n",
    "    train_accuracy_scores = []\n",
    "    for train_index, test_index in kf.split(data):\n",
    "        train_features = data.loc[train_index]\n",
    "        test_features = data.loc[test_index]\n",
    "        train_labels = target[train_index]\n",
    "        test_labels = target[test_index]\n",
    "        model = train_nn_3(nneurons,train_features,train_labels)\n",
    "        test_accuracy = test(model,test_features,test_labels)\n",
    "        train_accuracy = test(model,train_features, train_labels)\n",
    "        test_accuracy_scores.append(test_accuracy)\n",
    "        train_accuracy_scores.append(train_accuracy)\n",
    "    test_accuracy_avg = np.mean(test_accuracy_scores)\n",
    "    train_accuracy_avg = np.mean(train_accuracy_scores)\n",
    "    return train_accuracy_avg, test_accuracy_avg"
   ]
  },
  {
   "cell_type": "code",
   "execution_count": 29,
   "metadata": {
    "collapsed": false
   },
   "outputs": [
    {
     "name": "stdout",
     "output_type": "stream",
     "text": [
      "8\n"
     ]
    },
    {
     "name": "stderr",
     "output_type": "stream",
     "text": [
      "/dataquest/system/env/python3/lib/python3.4/site-packages/sklearn/neural_network/multilayer_perceptron.py:563: ConvergenceWarning:\n",
      "\n",
      "Stochastic Optimizer: Maximum iterations reached and the optimization hasn't converged yet.\n",
      "\n"
     ]
    },
    {
     "name": "stdout",
     "output_type": "stream",
     "text": [
      "16\n",
      "32\n",
      "64\n",
      "128\n"
     ]
    }
   ],
   "source": [
    "# train models\n",
    "t = time.time()\n",
    "nneurons_list = [8, 16, 32, 64,128]\n",
    "train_accuracy_nneurons = []\n",
    "test_accuracy_nneurons = []\n",
    "for nneurons in nneurons_list:\n",
    "    print(nneurons)\n",
    "    train_accuracy_avg,test_accuracy_avg = cross_validation(data,target,nneurons)\n",
    "    train_accuracy_nneurons.append(train_accuracy_avg)\n",
    "    test_accuracy_nneurons.append(test_accuracy_avg)\n",
    "elapsed = time.time() - t"
   ]
  },
  {
   "cell_type": "code",
   "execution_count": 30,
   "metadata": {
    "collapsed": false
   },
   "outputs": [
    {
     "name": "stdout",
     "output_type": "stream",
     "text": [
      "time to train neural network models with three hidden layers using cross validation:\n",
      "456.3221654891968 s\n",
      "mean accuracy on train sets:\n",
      "0.9945025044897686\n",
      "mean accuracy on test sets\n",
      "0.9623786696395392\n"
     ]
    }
   ],
   "source": [
    "print('time to train neural network models with three hidden layers using cross validation:')\n",
    "print(elapsed,'s')\n",
    "print('mean accuracy on train sets:')\n",
    "print(np.mean(train_accuracy_nneurons))\n",
    "print('mean accuracy on test sets')\n",
    "print(np.mean(test_accuracy_nneurons))"
   ]
  },
  {
   "cell_type": "code",
   "execution_count": 31,
   "metadata": {
    "collapsed": false
   },
   "outputs": [
    {
     "data": {
      "image/png": "[encoded data removed]",
      "text/plain": [
       "<matplotlib.figure.Figure at 0x7fa3595deef0>"
      ]
     },
     "metadata": {},
     "output_type": "display_data"
    }
   ],
   "source": [
    "# plot accuracy versus number of neurons with neural network models\n",
    "plt.plot(nneurons_list,train_accuracy_nneurons)\n",
    "plt.plot(nneurons_list,test_accuracy_nneurons)\n",
    "plt.legend(['train_accuracy','test_accuracy'], loc = 'lower right')\n",
    "plt.xlabel('n_neurons')\n",
    "plt.ylabel('accuracy')\n",
    "plt.title('neural network models using three hidden layers\\n accuracy vs number of neurons')\n",
    "plt.show()"
   ]
  },
  {
   "cell_type": "markdown",
   "metadata": {},
   "source": [
    "Conclusion:\n",
    "\n",
    "For neural network models with single, two and three hidden layers, the mean accuracies on training dataset are about 0.959, 0.955 and 0.962. The mean accuracy for knn models is about 0.98. Newral network models are time consuming as the number of neurons increases. knn models seem to work better."
   ]
  },
  {
   "cell_type": "code",
   "execution_count": null,
   "metadata": {
    "collapsed": true
   },
   "outputs": [],
   "source": []
  }
 ],
 "metadata": {
  "anaconda-cloud": {},
  "kernelspec": {
   "display_name": "Python 3",
   "language": "python",
   "name": "python3"
  },
  "language_info": {
   "codemirror_mode": {
    "name": "ipython",
    "version": 3
   },
   "file_extension": ".py",
   "mimetype": "text/x-python",
   "name": "python",
   "nbconvert_exporter": "python",
   "pygments_lexer": "ipython3",
   "version": "3.4.3"
  }
 },
 "nbformat": 4,
 "nbformat_minor": 2
}
