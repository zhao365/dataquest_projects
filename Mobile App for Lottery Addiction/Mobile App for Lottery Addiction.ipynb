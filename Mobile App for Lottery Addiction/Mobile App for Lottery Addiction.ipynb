{
 "cells": [
  {
   "cell_type": "markdown",
   "metadata": {},
   "source": [
    "# Guided Project: Mobile App for Lottery Addiction\n",
    "\n",
    "In this project, we will use our knowlege of probability to contribute to the development of a mobile app that is meant to help lottery addicts better estimate their chances of winning.\n",
    "\n",
    "A medical institute that aims to prevent and treat gambling addictions wants to build a dedicated mobile app to help lottery addicts better estimate their chances of winning. The institute has a team of engineers that will build the app, but they need us to create the logical core of the app and calculate probabilities.\n",
    "\n",
    "We want to build functions that enable users to answer questions like:\n",
    "- What is the probability of winning the big prize with a single ticket?\n",
    "- What is the probability of winning the big prize if we play 40 different tickets (or any other number)?\n",
    "- What is the probability of having at least five (or four, or three, or two) winning numbers on a single ticket?"
   ]
  },
  {
   "cell_type": "markdown",
   "metadata": {},
   "source": [
    "## Core Functions\n",
    "we'll start by writing two functions that we'll use often: factorial() and combinations()"
   ]
  },
  {
   "cell_type": "code",
   "execution_count": 1,
   "metadata": {
    "collapsed": true
   },
   "outputs": [],
   "source": [
    "def factorial(n):\n",
    "    if n == 1:\n",
    "        return 1\n",
    "    else:\n",
    "        return n*factorial(n-1)"
   ]
  },
  {
   "cell_type": "code",
   "execution_count": 2,
   "metadata": {
    "collapsed": true
   },
   "outputs": [],
   "source": [
    "def combinations(n,k):\n",
    "    numerator = factorial(n)\n",
    "    denominator = factorial(k)*factorial(n-k)\n",
    "    return numerator/denominator"
   ]
  },
  {
   "cell_type": "markdown",
   "metadata": {},
   "source": [
    "## One-ticket Probability\n",
    "\n",
    "we'll writing a function that calculates the probability of winning the big prize."
   ]
  },
  {
   "cell_type": "code",
   "execution_count": 18,
   "metadata": {
    "collapsed": false
   },
   "outputs": [],
   "source": [
    "def one_ticket_probability(num_list):\n",
    "    total_outcomes = combinations(49,6)\n",
    "    prob = (1/total_outcomes)*100\n",
    "    print(\"The probability of your choice to win is {:.7f}%. It means that you have 1 in {:,} chance to win.\".format(prob, total_outcomes))"
   ]
  },
  {
   "cell_type": "code",
   "execution_count": 19,
   "metadata": {
    "collapsed": false
   },
   "outputs": [
    {
     "name": "stdout",
     "output_type": "stream",
     "text": [
      "The probability of your choice to win is 0.0000072%. It means that you have 1 in 13,983,816.0 chance to win.\n"
     ]
    }
   ],
   "source": [
    "one_ticket_probability([3,6,34,7,41,12])"
   ]
  },
  {
   "cell_type": "code",
   "execution_count": 20,
   "metadata": {
    "collapsed": false
   },
   "outputs": [
    {
     "name": "stdout",
     "output_type": "stream",
     "text": [
      "The probability of your choice to win is 0.0000072%. It means that you have 1 in 13,983,816.0 chance to win.\n"
     ]
    }
   ],
   "source": [
    "one_ticket_probability([45,36,28,19,4,30])"
   ]
  },
  {
   "cell_type": "markdown",
   "metadata": {},
   "source": [
    "## Historical Data Check for Canada Lottery"
   ]
  },
  {
   "cell_type": "code",
   "execution_count": 21,
   "metadata": {
    "collapsed": true
   },
   "outputs": [],
   "source": [
    "import pandas as pd"
   ]
  },
  {
   "cell_type": "code",
   "execution_count": 22,
   "metadata": {
    "collapsed": true
   },
   "outputs": [],
   "source": [
    "lottery = pd.read_csv('649.csv')"
   ]
  },
  {
   "cell_type": "code",
   "execution_count": 23,
   "metadata": {
    "collapsed": false
   },
   "outputs": [
    {
     "data": {
      "text/plain": [
       "(3665, 11)"
      ]
     },
     "execution_count": 23,
     "metadata": {},
     "output_type": "execute_result"
    }
   ],
   "source": [
    "lottery.shape"
   ]
  },
  {
   "cell_type": "code",
   "execution_count": 24,
   "metadata": {
    "collapsed": false
   },
   "outputs": [
    {
     "data": {
      "text/html": [
       "<div>\n",
       "<style scoped>\n",
       "    .dataframe tbody tr th:only-of-type {\n",
       "        vertical-align: middle;\n",
       "    }\n",
       "\n",
       "    .dataframe tbody tr th {\n",
       "        vertical-align: top;\n",
       "    }\n",
       "\n",
       "    .dataframe thead th {\n",
       "        text-align: right;\n",
       "    }\n",
       "</style>\n",
       "<table border=\"1\" class=\"dataframe\">\n",
       "  <thead>\n",
       "    <tr style=\"text-align: right;\">\n",
       "      <th></th>\n",
       "      <th>PRODUCT</th>\n",
       "      <th>DRAW NUMBER</th>\n",
       "      <th>SEQUENCE NUMBER</th>\n",
       "      <th>DRAW DATE</th>\n",
       "      <th>NUMBER DRAWN 1</th>\n",
       "      <th>NUMBER DRAWN 2</th>\n",
       "      <th>NUMBER DRAWN 3</th>\n",
       "      <th>NUMBER DRAWN 4</th>\n",
       "      <th>NUMBER DRAWN 5</th>\n",
       "      <th>NUMBER DRAWN 6</th>\n",
       "      <th>BONUS NUMBER</th>\n",
       "    </tr>\n",
       "  </thead>\n",
       "  <tbody>\n",
       "    <tr>\n",
       "      <th>0</th>\n",
       "      <td>649</td>\n",
       "      <td>1</td>\n",
       "      <td>0</td>\n",
       "      <td>6/12/1982</td>\n",
       "      <td>3</td>\n",
       "      <td>11</td>\n",
       "      <td>12</td>\n",
       "      <td>14</td>\n",
       "      <td>41</td>\n",
       "      <td>43</td>\n",
       "      <td>13</td>\n",
       "    </tr>\n",
       "    <tr>\n",
       "      <th>1</th>\n",
       "      <td>649</td>\n",
       "      <td>2</td>\n",
       "      <td>0</td>\n",
       "      <td>6/19/1982</td>\n",
       "      <td>8</td>\n",
       "      <td>33</td>\n",
       "      <td>36</td>\n",
       "      <td>37</td>\n",
       "      <td>39</td>\n",
       "      <td>41</td>\n",
       "      <td>9</td>\n",
       "    </tr>\n",
       "    <tr>\n",
       "      <th>2</th>\n",
       "      <td>649</td>\n",
       "      <td>3</td>\n",
       "      <td>0</td>\n",
       "      <td>6/26/1982</td>\n",
       "      <td>1</td>\n",
       "      <td>6</td>\n",
       "      <td>23</td>\n",
       "      <td>24</td>\n",
       "      <td>27</td>\n",
       "      <td>39</td>\n",
       "      <td>34</td>\n",
       "    </tr>\n",
       "  </tbody>\n",
       "</table>\n",
       "</div>"
      ],
      "text/plain": [
       "   PRODUCT  DRAW NUMBER  SEQUENCE NUMBER  DRAW DATE  NUMBER DRAWN 1  \\\n",
       "0      649            1                0  6/12/1982               3   \n",
       "1      649            2                0  6/19/1982               8   \n",
       "2      649            3                0  6/26/1982               1   \n",
       "\n",
       "   NUMBER DRAWN 2  NUMBER DRAWN 3  NUMBER DRAWN 4  NUMBER DRAWN 5  \\\n",
       "0              11              12              14              41   \n",
       "1              33              36              37              39   \n",
       "2               6              23              24              27   \n",
       "\n",
       "   NUMBER DRAWN 6  BONUS NUMBER  \n",
       "0              43            13  \n",
       "1              41             9  \n",
       "2              39            34  "
      ]
     },
     "execution_count": 24,
     "metadata": {},
     "output_type": "execute_result"
    }
   ],
   "source": [
    "lottery.head(3)"
   ]
  },
  {
   "cell_type": "markdown",
   "metadata": {},
   "source": [
    "## Functions for Historical Data Check\n",
    "\n",
    "We'll write a function that will enable users to compare their ticke against the historical lottery data in Canada and determine whether they would have ever won by now"
   ]
  },
  {
   "cell_type": "code",
   "execution_count": 25,
   "metadata": {
    "collapsed": true
   },
   "outputs": [],
   "source": [
    "# write a function that takes as input a row of lottery dataframe and \n",
    "# returns a set containing all the six winning numbers.\n",
    "def extract_numbers(row):\n",
    "    six_numbers = set()\n",
    "    for i in range(1,7):\n",
    "        six_numbers.add(row[\"NUMBER DRAWN \"+str(i)])\n",
    "    return six_numbers"
   ]
  },
  {
   "cell_type": "code",
   "execution_count": 26,
   "metadata": {
    "collapsed": false
   },
   "outputs": [
    {
     "data": {
      "text/plain": [
       "PRODUCT                  649\n",
       "DRAW NUMBER                2\n",
       "SEQUENCE NUMBER            0\n",
       "DRAW DATE          6/19/1982\n",
       "NUMBER DRAWN 1             8\n",
       "NUMBER DRAWN 2            33\n",
       "NUMBER DRAWN 3            36\n",
       "NUMBER DRAWN 4            37\n",
       "NUMBER DRAWN 5            39\n",
       "NUMBER DRAWN 6            41\n",
       "BONUS NUMBER               9\n",
       "Name: 1, dtype: object"
      ]
     },
     "execution_count": 26,
     "metadata": {},
     "output_type": "execute_result"
    }
   ],
   "source": [
    "lottery.loc[1,:]"
   ]
  },
  {
   "cell_type": "code",
   "execution_count": 28,
   "metadata": {
    "collapsed": false
   },
   "outputs": [
    {
     "data": {
      "text/plain": [
       "{8, 33, 36, 37, 39, 41}"
      ]
     },
     "execution_count": 28,
     "metadata": {},
     "output_type": "execute_result"
    }
   ],
   "source": [
    "extract_numbers(lottery.loc[1,:])"
   ]
  },
  {
   "cell_type": "code",
   "execution_count": 31,
   "metadata": {
    "collapsed": false
   },
   "outputs": [],
   "source": [
    "winning_numbers = lottery.apply(extract_numbers,axis = 1)"
   ]
  },
  {
   "cell_type": "code",
   "execution_count": 32,
   "metadata": {
    "collapsed": true
   },
   "outputs": [],
   "source": [
    "# write a function that takes in two inputs: a python list containing the user numbers and \n",
    "# a pandas Series containing sets with the winning numbers.\n",
    "def check_historical_occurence(user_num_list, winning_numbers):\n",
    "    user_num = set(user_num_list)\n",
    "    match_or_not = (user_num == winning_numbers)\n",
    "    times = match_or_not.sum()\n",
    "    print(\"your choice has occurred {} times in the past\".format(times))\n",
    "    print(\"The probability of your choice to win is 0.0000072%. It means that you have 1 in 13,983,816.0 chance to win.\")"
   ]
  },
  {
   "cell_type": "code",
   "execution_count": 33,
   "metadata": {
    "collapsed": false
   },
   "outputs": [
    {
     "name": "stdout",
     "output_type": "stream",
     "text": [
      "your choice has occurred 1 times in the past\n",
      "The probability of your choice to win is 0.0000072%. It means that you have 1 in 13,983,816.0 chance to win.\n"
     ]
    }
   ],
   "source": [
    "check_historical_occurence([8, 33, 36, 37, 39, 41], winning_numbers)"
   ]
  },
  {
   "cell_type": "code",
   "execution_count": 34,
   "metadata": {
    "collapsed": false
   },
   "outputs": [
    {
     "name": "stdout",
     "output_type": "stream",
     "text": [
      "your choice has occurred 0 times in the past\n",
      "The probability of your choice to win is 0.0000072%. It means that you have 1 in 13,983,816.0 chance to win.\n"
     ]
    }
   ],
   "source": [
    "check_historical_occurence([5,17,24,54,31,40], winning_numbers)"
   ]
  },
  {
   "cell_type": "markdown",
   "metadata": {},
   "source": [
    "## Multi_ticket Probability\n",
    "\n",
    "Lottery addicts usually play more than one ticket on a single drawing. Our purpose is to help them better estimate their chances of winning."
   ]
  },
  {
   "cell_type": "code",
   "execution_count": 51,
   "metadata": {
    "collapsed": false
   },
   "outputs": [],
   "source": [
    "# write a function that prints the probability of winning the big prize depending on the number of differenct tickets played\n",
    "def multi_ticket_probability(n_tickets):\n",
    "    total_outcomes = combinations(49,6)\n",
    "    prob = (n_tickets/total_outcomes)*100\n",
    "    print(\"The probability of your {} tickets to win is {:.7f}%. It means that you have {} in {} chance to win\".format(n_tickets,prob, n_tickets,int(total_outcomes)))"
   ]
  },
  {
   "cell_type": "code",
   "execution_count": 52,
   "metadata": {
    "collapsed": false
   },
   "outputs": [
    {
     "name": "stdout",
     "output_type": "stream",
     "text": [
      "The probability of your 1 tickets to win is 0.0000072%. It means that you have 1 in 13983816 chance to win\n",
      "--------------------\n",
      "The probability of your 10 tickets to win is 0.0000715%. It means that you have 10 in 13983816 chance to win\n",
      "--------------------\n",
      "The probability of your 100 tickets to win is 0.0007151%. It means that you have 100 in 13983816 chance to win\n",
      "--------------------\n",
      "The probability of your 10000 tickets to win is 0.0715112%. It means that you have 10000 in 13983816 chance to win\n",
      "--------------------\n",
      "The probability of your 1000000 tickets to win is 7.1511238%. It means that you have 1000000 in 13983816 chance to win\n",
      "--------------------\n",
      "The probability of your 6991908 tickets to win is 50.0000000%. It means that you have 6991908 in 13983816 chance to win\n",
      "--------------------\n",
      "The probability of your 13983816 tickets to win is 100.0000000%. It means that you have 13983816 in 13983816 chance to win\n",
      "--------------------\n"
     ]
    }
   ],
   "source": [
    "for n in [1,10,100,10000,1000000,6991908,13983816]:\n",
    "    multi_ticket_probability(n)\n",
    "    print(\"--------------------\")"
   ]
  },
  {
   "cell_type": "markdown",
   "metadata": {},
   "source": [
    "## Less Winning Numbers\n",
    "We'll write a function to allow the users to calculate probabilities for two, three, four or five winning numbers, since in most 6/49 lotteries there are smaller prizes if a player's ticket match two, three, four or five of the six numbers drawn."
   ]
  },
  {
   "cell_type": "code",
   "execution_count": 61,
   "metadata": {
    "collapsed": true
   },
   "outputs": [],
   "source": [
    "# calculate the probability of having n winning numbers\n",
    "def probability_less_6(n):\n",
    "    # num_combinations is the number of combinations we can have for n numbers out of 6.\n",
    "    num_combinations = combinations(6,n)\n",
    "    # successful_outcomes_per_combination is the number of possible successful outcomes for each combination\n",
    "    successful_outcomes_per_combination = combinations(49-n,6-n)\n",
    "    successful_outcomes = num_combinations*successful_outcomes_per_combination\n",
    "    total_outcomes = combinations(49,6)\n",
    "    prob = successful_outcomes/total_outcomes\n",
    "    percentage = prob*100\n",
    "    combinations_simplified = int(total_outcomes/successful_outcomes)\n",
    "    print(\"The probability of your ticket to contain {} winning numbers is {:.7f}%. It means that you have 1 in {} chance to win\".format(n,percentage, combinations_simplified))"
   ]
  },
  {
   "cell_type": "code",
   "execution_count": 62,
   "metadata": {
    "collapsed": false
   },
   "outputs": [
    {
     "name": "stdout",
     "output_type": "stream",
     "text": [
      "The probability of your ticket to contain 2 winning numbers is 19.1326531%. It means that you have 1 in 5 chance to win\n",
      "-----------------\n",
      "The probability of your ticket to contain 3 winning numbers is 2.1710812%. It means that you have 1 in 46 chance to win\n",
      "-----------------\n",
      "The probability of your ticket to contain 4 winning numbers is 0.1061942%. It means that you have 1 in 941 chance to win\n",
      "-----------------\n",
      "The probability of your ticket to contain 5 winning numbers is 0.0018879%. It means that you have 1 in 52969 chance to win\n",
      "-----------------\n"
     ]
    }
   ],
   "source": [
    "for n in [2,3,4,5]:\n",
    "    probability_less_6(n)\n",
    "    print(\"-----------------\")"
   ]
  },
  {
   "cell_type": "markdown",
   "metadata": {},
   "source": [
    "## Summary and Next Steps:\n",
    "We managed to write four main functions for our app:\n",
    "\n",
    "- one_ticket_probability() — calculates the probability of winning the big prize with a single ticket\n",
    "- check_historical_occurrence() — checks whether a certain combination has occurred in the Canada lottery data set\n",
    "- multi_ticket_probability() — calculates the probability for any number of of tickets between 1 and 13,983,816\n",
    "- probability_less_6() — calculates the probability of having two, three, four or five winning numbers\n",
    "\n",
    "Possible features for a second version of the app include:\n",
    "\n",
    "- Making the outputs even easier to understand by adding fun analogies (for example, we can find probabilities for strange events and compare with the chances of winning in lottery; for instance, we can output something along the lines \"You are 100 times more likely to be the victim of a shark attack than winning the lottery\").\n",
    "- Combining the one_ticket_probability() and check_historical_occurrence() to output information on probability and historical occurrence at the same time."
   ]
  },
  {
   "cell_type": "code",
   "execution_count": null,
   "metadata": {
    "collapsed": true
   },
   "outputs": [],
   "source": []
  }
 ],
 "metadata": {
  "kernelspec": {
   "display_name": "Python 3",
   "language": "python",
   "name": "python3"
  },
  "language_info": {
   "codemirror_mode": {
    "name": "ipython",
    "version": 3
   },
   "file_extension": ".py",
   "mimetype": "text/x-python",
   "name": "python",
   "nbconvert_exporter": "python",
   "pygments_lexer": "ipython3",
   "version": "3.4.3"
  }
 },
 "nbformat": 4,
 "nbformat_minor": 2
}
