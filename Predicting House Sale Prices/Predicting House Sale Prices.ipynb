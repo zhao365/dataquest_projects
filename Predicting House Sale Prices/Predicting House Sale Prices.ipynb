{
 "cells": [
  {
   "cell_type": "markdown",
   "metadata": {},
   "source": [
    "# Predicting House Sale Prices\n",
    "\n",
    "In this guided project, we will work with housing data for the city of Ames, Lowa, US from 2006 to 2010. We can read more about why the data was collected [here](https://www.tandfonline.com/doi/abs/10.1080/10691898.2011.11889627), and more about the different columns [here](https://s3.amazonaws.com/dq-content/307/data_description.txt).\n",
    "\n",
    "We will follow the pipeline of functions as the order:\n",
    "- transform_features() which removes features that we don't want to use in the model, transforms text and numerical columns into proper format, and create new features by combing other features.\n",
    "- select_features() which finds features that correlate strongly with our target columns.\n",
    "- train_and_test() which trains linear models."
   ]
  },
  {
   "cell_type": "code",
   "execution_count": 1,
   "metadata": {},
   "outputs": [],
   "source": [
    "import pandas as pd\n",
    "import numpy as np\n",
    "import matplotlib.pyplot as plt\n",
    "%matplotlib inline\n",
    "import seaborn as sns"
   ]
  },
  {
   "cell_type": "code",
   "execution_count": 2,
   "metadata": {},
   "outputs": [],
   "source": [
    "from sklearn.metrics import mean_squared_error\n",
    "from sklearn import linear_model\n",
    "from sklearn.model_selection import KFold,cross_val_score"
   ]
  },
  {
   "cell_type": "code",
   "execution_count": 3,
   "metadata": {},
   "outputs": [],
   "source": [
    "# read in data\n",
    "data = pd.read_csv('AmesHousing.tsv',delimiter = '\\t')"
   ]
  },
  {
   "cell_type": "code",
   "execution_count": 4,
   "metadata": {},
   "outputs": [],
   "source": [
    "# create transform_features() and for now just returns the train data frame\n",
    "def transform_features(df):\n",
    "    return df\n",
    "\n",
    "# create select_features() and for now just returns the 'Gr Liv Area' and 'SalePrice' \n",
    "# columns from the data\n",
    "def select_features(df):\n",
    "    return df[['Gr Liv Area','SalePrice']]\n",
    "\n",
    "# create train_and_test() and for now perform holdout validation, and trains a model\n",
    "# using all numerical columns except the 'SalePrice' column from the data frame returned from \n",
    "# select_features()\n",
    "def train_and_test(df):\n",
    "    # get training data and test data.\n",
    "    train = df[:1460]\n",
    "    test = df[1460:]\n",
    "    # get features\n",
    "    numeric_data = train.select_dtypes(include = np.number)\n",
    "    features = numeric_data.columns.drop(['SalePrice'])\n",
    "    target = 'SalePrice'\n",
    "    # train a linear model\n",
    "    Lr = linear_model.LinearRegression()\n",
    "    Lr.fit(train[features], train[target])\n",
    "    # make predictions and calculate rmse\n",
    "    test_predictions = Lr.predict(test[features])\n",
    "    test_mse = mean_squared_error(test_predictions, test[target]) \n",
    "    test_rmse = np.sqrt(test_mse)   \n",
    "    return test_rmse"
   ]
  },
  {
   "cell_type": "code",
   "execution_count": 5,
   "metadata": {},
   "outputs": [
    {
     "data": {
      "text/plain": [
       "57088.25161263909"
      ]
     },
     "execution_count": 5,
     "metadata": {},
     "output_type": "execute_result"
    }
   ],
   "source": [
    "# test the very first model by going through the pipeline.\n",
    "transform_data = transform_features(data)\n",
    "filtered_data = select_features(transform_data)\n",
    "rmse = train_and_test(filtered_data)\n",
    "rmse"
   ]
  },
  {
   "cell_type": "code",
   "execution_count": 6,
   "metadata": {},
   "outputs": [
    {
     "name": "stdout",
     "output_type": "stream",
     "text": [
      "(2930, 82)\n",
      "(2930, 82)\n",
      "(2930, 2)\n"
     ]
    }
   ],
   "source": [
    "# check the shape of data set at each step\n",
    "print(data.shape)\n",
    "print(transform_data.shape)\n",
    "print(filtered_data.shape)"
   ]
  },
  {
   "cell_type": "markdown",
   "metadata": {},
   "source": [
    "## Feature Engineering\n",
    "\n",
    "Let's now start removing features with many missing values, diving deeper into potential categorical features, and transforming text and numerical columns.\n",
    "\n",
    "We will update transform_features() to do the following:\n",
    "- remove features that we don't want to use in the model, based on the number of missing values and data leakage.\n",
    "- transform features into the proper format (numerical to categorical, scaling numerical, filling in missing values)\n",
    "- create new features by combing other features.\n",
    "\n",
    "We will first do some experiments about the process and then update the function."
   ]
  },
  {
   "cell_type": "code",
   "execution_count": 7,
   "metadata": {},
   "outputs": [
    {
     "data": {
      "text/plain": [
       "Pool QC           2917\n",
       "Misc Feature      2824\n",
       "Alley             2732\n",
       "Fence             2358\n",
       "Fireplace Qu      1422\n",
       "Lot Frontage       490\n",
       "Garage Qual        159\n",
       "Garage Yr Blt      159\n",
       "Garage Cond        159\n",
       "Garage Finish      159\n",
       "Garage Type        157\n",
       "Bsmt Exposure       83\n",
       "BsmtFin Type 2      81\n",
       "BsmtFin Type 1      80\n",
       "Bsmt Cond           80\n",
       "Bsmt Qual           80\n",
       "Mas Vnr Type        23\n",
       "Mas Vnr Area        23\n",
       "Bsmt Full Bath       2\n",
       "Bsmt Half Bath       2\n",
       "Garage Area          1\n",
       "Garage Cars          1\n",
       "Total Bsmt SF        1\n",
       "Bsmt Unf SF          1\n",
       "BsmtFin SF 2         1\n",
       "BsmtFin SF 1         1\n",
       "Electrical           1\n",
       "dtype: int64"
      ]
     },
     "execution_count": 7,
     "metadata": {},
     "output_type": "execute_result"
    }
   ],
   "source": [
    "# explore missing data\n",
    "data_null = data.isnull().sum().sort_values(ascending = False)\n",
    "data_null[data_null > 0]"
   ]
  },
  {
   "cell_type": "code",
   "execution_count": 8,
   "metadata": {},
   "outputs": [
    {
     "data": {
      "text/plain": [
       "Pool QC          2917\n",
       "Misc Feature     2824\n",
       "Alley            2732\n",
       "Fence            2358\n",
       "Fireplace Qu     1422\n",
       "Lot Frontage      490\n",
       "Garage Qual       159\n",
       "Garage Yr Blt     159\n",
       "Garage Cond       159\n",
       "Garage Finish     159\n",
       "Garage Type       157\n",
       "dtype: int64"
      ]
     },
     "execution_count": 8,
     "metadata": {},
     "output_type": "execute_result"
    }
   ],
   "source": [
    "# columns with more than 5% missing data\n",
    "data_null[data_null>0.05*len(data)]"
   ]
  },
  {
   "cell_type": "code",
   "execution_count": 9,
   "metadata": {},
   "outputs": [],
   "source": [
    "# we will drop above columns with more than 5% missing data\n",
    "data_clean = data.drop(data_null[data_null>0.05*len(data)].index,axis=1)"
   ]
  },
  {
   "cell_type": "code",
   "execution_count": 10,
   "metadata": {},
   "outputs": [
    {
     "name": "stdout",
     "output_type": "stream",
     "text": [
      "(2930, 82)\n",
      "(2930, 71)\n"
     ]
    }
   ],
   "source": [
    "# check the difference after dropping columns\n",
    "print(data.shape)\n",
    "print(data_clean.shape)"
   ]
  },
  {
   "cell_type": "code",
   "execution_count": 11,
   "metadata": {},
   "outputs": [
    {
     "name": "stdout",
     "output_type": "stream",
     "text": [
      "text columns with missing values:\n",
      "Bsmt Exposure     83\n",
      "BsmtFin Type 2    81\n",
      "BsmtFin Type 1    80\n",
      "Bsmt Qual         80\n",
      "Bsmt Cond         80\n",
      "Mas Vnr Type      23\n",
      "Electrical         1\n",
      "dtype: int64\n",
      "numerical columns with missing values:\n",
      "Mas Vnr Area      23\n",
      "Bsmt Half Bath     2\n",
      "Bsmt Full Bath     2\n",
      "Garage Cars        1\n",
      "BsmtFin SF 1       1\n",
      "Total Bsmt SF      1\n",
      "Bsmt Unf SF        1\n",
      "BsmtFin SF 2       1\n",
      "Garage Area        1\n",
      "dtype: int64\n"
     ]
    }
   ],
   "source": [
    "# for the remaining columns with missing values, we will look at text columns and numerical columns respectively.\n",
    "data_object_null = data_clean.select_dtypes(include= 'object').isnull().sum().sort_values(ascending = False)\n",
    "print('text columns with missing values:')\n",
    "print(data_object_null[data_object_null>0])\n",
    "data_numeric_null = data_clean.select_dtypes(include=[np.number]).isnull().sum().sort_values(ascending = False)\n",
    "print('numerical columns with missing values:')\n",
    "print(data_numeric_null[data_numeric_null>0])"
   ]
  },
  {
   "cell_type": "code",
   "execution_count": 12,
   "metadata": {},
   "outputs": [
    {
     "name": "stdout",
     "output_type": "stream",
     "text": [
      "(2930, 64)\n"
     ]
    }
   ],
   "source": [
    "# we will drop all text columns with missing values, and replace numerical missing values with their modes respectively.\n",
    "drop_cols = data_object_null[data_object_null>0].index.tolist()\n",
    "data_clean = data_clean.drop(drop_cols,axis = 1)\n",
    "fill_cols = data_numeric_null[data_numeric_null>0].index.tolist()\n",
    "for col in fill_cols:\n",
    "    value = data_clean[col].mode()[0]\n",
    "    data_clean[col] = data_clean[col].fillna(value)\n",
    "print(data_clean.shape)"
   ]
  },
  {
   "cell_type": "code",
   "execution_count": 13,
   "metadata": {},
   "outputs": [],
   "source": [
    "# create new feature\n",
    "data_clean['Years Before Sale'] = data_clean['Yr Sold'] - data_clean['Year Built']\n",
    "data_clean['Years Since Remod'] = data_clean['Yr Sold'] - data_clean['Year Remod/Add']"
   ]
  },
  {
   "cell_type": "code",
   "execution_count": 14,
   "metadata": {},
   "outputs": [
    {
     "data": {
      "text/html": [
       "<div>\n",
       "<style scoped>\n",
       "    .dataframe tbody tr th:only-of-type {\n",
       "        vertical-align: middle;\n",
       "    }\n",
       "\n",
       "    .dataframe tbody tr th {\n",
       "        vertical-align: top;\n",
       "    }\n",
       "\n",
       "    .dataframe thead th {\n",
       "        text-align: right;\n",
       "    }\n",
       "</style>\n",
       "<table border=\"1\" class=\"dataframe\">\n",
       "  <thead>\n",
       "    <tr style=\"text-align: right;\">\n",
       "      <th></th>\n",
       "      <th>Order</th>\n",
       "      <th>PID</th>\n",
       "      <th>MS SubClass</th>\n",
       "      <th>MS Zoning</th>\n",
       "      <th>Lot Area</th>\n",
       "      <th>Street</th>\n",
       "      <th>Lot Shape</th>\n",
       "      <th>Land Contour</th>\n",
       "      <th>Utilities</th>\n",
       "      <th>Lot Config</th>\n",
       "      <th>...</th>\n",
       "      <th>Screen Porch</th>\n",
       "      <th>Pool Area</th>\n",
       "      <th>Misc Val</th>\n",
       "      <th>Mo Sold</th>\n",
       "      <th>Yr Sold</th>\n",
       "      <th>Sale Type</th>\n",
       "      <th>Sale Condition</th>\n",
       "      <th>SalePrice</th>\n",
       "      <th>Years Before Sale</th>\n",
       "      <th>Years Since Remod</th>\n",
       "    </tr>\n",
       "  </thead>\n",
       "  <tbody>\n",
       "    <tr>\n",
       "      <th>1702</th>\n",
       "      <td>1703</td>\n",
       "      <td>528120010</td>\n",
       "      <td>60</td>\n",
       "      <td>RL</td>\n",
       "      <td>16659</td>\n",
       "      <td>Pave</td>\n",
       "      <td>IR1</td>\n",
       "      <td>Lvl</td>\n",
       "      <td>AllPub</td>\n",
       "      <td>Corner</td>\n",
       "      <td>...</td>\n",
       "      <td>0</td>\n",
       "      <td>0</td>\n",
       "      <td>0</td>\n",
       "      <td>6</td>\n",
       "      <td>2007</td>\n",
       "      <td>New</td>\n",
       "      <td>Partial</td>\n",
       "      <td>260116</td>\n",
       "      <td>0</td>\n",
       "      <td>-1</td>\n",
       "    </tr>\n",
       "    <tr>\n",
       "      <th>2180</th>\n",
       "      <td>2181</td>\n",
       "      <td>908154195</td>\n",
       "      <td>20</td>\n",
       "      <td>RL</td>\n",
       "      <td>39290</td>\n",
       "      <td>Pave</td>\n",
       "      <td>IR1</td>\n",
       "      <td>Bnk</td>\n",
       "      <td>AllPub</td>\n",
       "      <td>Inside</td>\n",
       "      <td>...</td>\n",
       "      <td>0</td>\n",
       "      <td>0</td>\n",
       "      <td>17000</td>\n",
       "      <td>10</td>\n",
       "      <td>2007</td>\n",
       "      <td>New</td>\n",
       "      <td>Partial</td>\n",
       "      <td>183850</td>\n",
       "      <td>-1</td>\n",
       "      <td>-2</td>\n",
       "    </tr>\n",
       "    <tr>\n",
       "      <th>2181</th>\n",
       "      <td>2182</td>\n",
       "      <td>908154205</td>\n",
       "      <td>60</td>\n",
       "      <td>RL</td>\n",
       "      <td>40094</td>\n",
       "      <td>Pave</td>\n",
       "      <td>IR1</td>\n",
       "      <td>Bnk</td>\n",
       "      <td>AllPub</td>\n",
       "      <td>Inside</td>\n",
       "      <td>...</td>\n",
       "      <td>0</td>\n",
       "      <td>0</td>\n",
       "      <td>0</td>\n",
       "      <td>10</td>\n",
       "      <td>2007</td>\n",
       "      <td>New</td>\n",
       "      <td>Partial</td>\n",
       "      <td>184750</td>\n",
       "      <td>0</td>\n",
       "      <td>-1</td>\n",
       "    </tr>\n",
       "  </tbody>\n",
       "</table>\n",
       "<p>3 rows × 66 columns</p>\n",
       "</div>"
      ],
      "text/plain": [
       "      Order        PID  MS SubClass MS Zoning  Lot Area Street Lot Shape  \\\n",
       "1702   1703  528120010           60        RL     16659   Pave       IR1   \n",
       "2180   2181  908154195           20        RL     39290   Pave       IR1   \n",
       "2181   2182  908154205           60        RL     40094   Pave       IR1   \n",
       "\n",
       "     Land Contour Utilities Lot Config        ...         Screen Porch  \\\n",
       "1702          Lvl    AllPub     Corner        ...                    0   \n",
       "2180          Bnk    AllPub     Inside        ...                    0   \n",
       "2181          Bnk    AllPub     Inside        ...                    0   \n",
       "\n",
       "     Pool Area Misc Val Mo Sold Yr Sold Sale Type  Sale Condition  SalePrice  \\\n",
       "1702         0        0       6    2007       New         Partial     260116   \n",
       "2180         0    17000      10    2007       New         Partial     183850   \n",
       "2181         0        0      10    2007       New         Partial     184750   \n",
       "\n",
       "      Years Before Sale  Years Since Remod  \n",
       "1702                  0                 -1  \n",
       "2180                 -1                 -2  \n",
       "2181                  0                 -1  \n",
       "\n",
       "[3 rows x 66 columns]"
      ]
     },
     "execution_count": 14,
     "metadata": {},
     "output_type": "execute_result"
    }
   ],
   "source": [
    "# for new features,check possible wrong data\n",
    "data_clean[(data_clean['Years Before Sale'] < 0) | (data_clean['Years Since Remod'] < 0)]"
   ]
  },
  {
   "cell_type": "code",
   "execution_count": 15,
   "metadata": {},
   "outputs": [],
   "source": [
    "# drop rows with negative values for new features\n",
    "data_clean = data_clean.drop([1702, 2180, 2181], axis=0)"
   ]
  },
  {
   "cell_type": "code",
   "execution_count": 16,
   "metadata": {},
   "outputs": [],
   "source": [
    "# drop original 'Year Built' and 'Year Remod/Add' columns\n",
    "data_clean = data_clean.drop([\"Year Built\", \"Year Remod/Add\"], axis = 1)\n",
    "## Drop columns that aren't useful for ML\n",
    "data_clean= data_clean.drop([\"PID\", \"Order\"], axis=1)\n",
    "## Drop columns that leak info about the final sale\n",
    "data_clean = data_clean.drop([\"Mo Sold\", \"Sale Condition\", \"Sale Type\", \"Yr Sold\"], axis=1)"
   ]
  },
  {
   "cell_type": "code",
   "execution_count": 17,
   "metadata": {},
   "outputs": [
    {
     "data": {
      "text/plain": [
       "(2927, 58)"
      ]
     },
     "execution_count": 17,
     "metadata": {},
     "output_type": "execute_result"
    }
   ],
   "source": [
    "data_clean.shape"
   ]
  },
  {
   "cell_type": "code",
   "execution_count": 18,
   "metadata": {},
   "outputs": [],
   "source": [
    "# Let's summarize all above steps and update our transform_features() function.\n",
    "def transform_features(df):\n",
    "    # drop columns with more than 5% missing values\n",
    "    df_null =  df.isnull().sum()\n",
    "    df_clean = df.drop(df_null[df_null>0.05*len(df)].index,axis=1)\n",
    "    # drop object columns with any missing values\n",
    "    df_object_null = df_clean.select_dtypes(include= 'object').isnull().sum()\n",
    "    drop_cols = df_object_null[df_object_null>0].index.tolist()\n",
    "    df_clean = df_clean.drop(drop_cols,axis = 1)\n",
    "    # fill in numeric columns with less than 5% missing values using the most popular value for that column\n",
    "    df_numeric_null = df_clean.select_dtypes(include=[np.number]).isnull().sum()\n",
    "    fill_cols = df_numeric_null[df_numeric_null>0].index.tolist()\n",
    "    for col in fill_cols:\n",
    "        value = df_clean[col].mode()[0]\n",
    "        df_clean[col] = df_clean[col].fillna(value)\n",
    "    # create new feature\n",
    "    df_clean['Years Before Sale'] = df_clean['Yr Sold'] - df_clean['Year Built']\n",
    "    df_clean['Years Since Remod'] = df_clean['Yr Sold'] - df_clean['Year Remod/Add']\n",
    "    ### replace negative values by 0 for new features\n",
    "    ### df_clean[['Years Before Sale','Years Since Remod']] = df_clean[['Years Before Sale','Years Since Remod']].replace({-1:0,-2:0})\n",
    "    # drop rows with negative values for new features\n",
    "    df_clean = df_clean.drop([1702, 2180, 2181], axis=0)\n",
    "    # drop original columns\n",
    "    df_clean = df_clean.drop([\"Year Built\", \"Year Remod/Add\"], axis = 1)\n",
    "    # Drop columns that aren't useful for ML\n",
    "    df_clean= df_clean.drop([\"PID\", \"Order\"], axis=1)\n",
    "    # Drop columns that leak info about the final sale\n",
    "    df_clean = df_clean.drop([\"Mo Sold\", \"Sale Condition\", \"Sale Type\", \"Yr Sold\"], axis=1)\n",
    "    return df_clean"
   ]
  },
  {
   "cell_type": "code",
   "execution_count": 19,
   "metadata": {},
   "outputs": [
    {
     "data": {
      "text/plain": [
       "55275.36731241307"
      ]
     },
     "execution_count": 19,
     "metadata": {},
     "output_type": "execute_result"
    }
   ],
   "source": [
    "transform_data = transform_features(data)\n",
    "filtered_data = select_features(transform_data)\n",
    "rmse = train_and_test(filtered_data)\n",
    "rmse"
   ]
  },
  {
   "cell_type": "code",
   "execution_count": 20,
   "metadata": {},
   "outputs": [
    {
     "name": "stdout",
     "output_type": "stream",
     "text": [
      "(2930, 82)\n",
      "(2927, 58)\n",
      "(2927, 2)\n"
     ]
    }
   ],
   "source": [
    "print(data.shape)\n",
    "print(transform_data.shape)\n",
    "print(filtered_data.shape)"
   ]
  },
  {
   "cell_type": "markdown",
   "metadata": {},
   "source": [
    "## Feature Selection\n",
    "We will:\n",
    "- Generate a correlation heatmap matrix of the numerical features in the training data set and see which features correlate strongly with the target columns.\n",
    "- Explore object type data and convert certain columns to categorical data.\n",
    "\n",
    "Again, We will first do some experiments about the process and then update the function."
   ]
  },
  {
   "cell_type": "code",
   "execution_count": 21,
   "metadata": {},
   "outputs": [
    {
     "name": "stdout",
     "output_type": "stream",
     "text": [
      "current numerical columns are:\n",
      "['MS SubClass', 'Lot Area', 'Overall Qual', 'Overall Cond', 'Mas Vnr Area', 'BsmtFin SF 1', 'BsmtFin SF 2', 'Bsmt Unf SF', 'Total Bsmt SF', '1st Flr SF', '2nd Flr SF', 'Low Qual Fin SF', 'Gr Liv Area', 'Bsmt Full Bath', 'Bsmt Half Bath', 'Full Bath', 'Half Bath', 'Bedroom AbvGr', 'Kitchen AbvGr', 'TotRms AbvGrd', 'Fireplaces', 'Garage Cars', 'Garage Area', 'Wood Deck SF', 'Open Porch SF', 'Enclosed Porch', '3Ssn Porch', 'Screen Porch', 'Pool Area', 'Misc Val', 'SalePrice', 'Years Before Sale', 'Years Since Remod']\n",
      "current text columns are:\n",
      "['MS Zoning', 'Street', 'Lot Shape', 'Land Contour', 'Utilities', 'Lot Config', 'Land Slope', 'Neighborhood', 'Condition 1', 'Condition 2', 'Bldg Type', 'House Style', 'Roof Style', 'Roof Matl', 'Exterior 1st', 'Exterior 2nd', 'Exter Qual', 'Exter Cond', 'Foundation', 'Heating', 'Heating QC', 'Central Air', 'Kitchen Qual', 'Functional', 'Paved Drive']\n"
     ]
    }
   ],
   "source": [
    "# Let's first look at current columns\n",
    "print('current numerical columns are:')\n",
    "print(data_clean.select_dtypes(include=['int64','float64']).columns.tolist())\n",
    "print('current text columns are:')\n",
    "print(data_clean.select_dtypes('object').columns.tolist())"
   ]
  },
  {
   "cell_type": "markdown",
   "metadata": {},
   "source": [
    "we notice that the \"MS SubClass' column should be categorical instead of numerical."
   ]
  },
  {
   "cell_type": "code",
   "execution_count": 22,
   "metadata": {},
   "outputs": [],
   "source": [
    "# transform 'MS SubClass' to 'object' dtype\n",
    "data_clean['MS SubClass'] = data_clean['MS SubClass'].astype('object')"
   ]
  },
  {
   "cell_type": "code",
   "execution_count": 23,
   "metadata": {},
   "outputs": [
    {
     "name": "stdout",
     "output_type": "stream",
     "text": [
      "(2927, 58)\n",
      "(2927, 26)\n",
      "(2927, 32)\n"
     ]
    }
   ],
   "source": [
    "print(data_clean.shape)\n",
    "print(data_clean.select_dtypes('object').shape)\n",
    "print(data_clean.select_dtypes(include = [np.number]).shape)"
   ]
  },
  {
   "cell_type": "markdown",
   "metadata": {},
   "source": [
    "There are 26 text columns and 32 numerical columns(including the target column). For numerical columns, we will look at their correlations. And for text columns, we will look at the counts of unique values for each column."
   ]
  },
  {
   "cell_type": "code",
   "execution_count": 24,
   "metadata": {},
   "outputs": [
    {
     "data": {
      "text/plain": [
       "<matplotlib.axes._subplots.AxesSubplot at 0xd9d6dd8>"
      ]
     },
     "execution_count": 24,
     "metadata": {},
     "output_type": "execute_result"
    },
    {
     "data": {
      "image/png": "[encoded data removed]",
      "text/plain": [
       "<Figure size 576x576 with 2 Axes>"
      ]
     },
     "metadata": {
      "needs_background": "light"
     },
     "output_type": "display_data"
    }
   ],
   "source": [
    "# generate a correlation heatmap matrix of numerical columns.\n",
    "fig = plt.figure(figsize = (8,8))\n",
    "sns.heatmap(data_clean.select_dtypes(include=[np.number]).corr().abs(), cmap = 'Blues')"
   ]
  },
  {
   "cell_type": "code",
   "execution_count": 25,
   "metadata": {},
   "outputs": [
    {
     "data": {
      "text/plain": [
       "SalePrice            1.000000\n",
       "Overall Qual         0.801206\n",
       "Gr Liv Area          0.717596\n",
       "Garage Cars          0.648361\n",
       "Total Bsmt SF        0.644012\n",
       "Garage Area          0.641425\n",
       "1st Flr SF           0.635185\n",
       "Years Before Sale    0.558979\n",
       "Full Bath            0.546118\n",
       "Years Since Remod    0.534985\n",
       "Mas Vnr Area         0.506983\n",
       "TotRms AbvGrd        0.498574\n",
       "Fireplaces           0.474831\n",
       "BsmtFin SF 1         0.439284\n",
       "Wood Deck SF         0.328183\n",
       "Open Porch SF        0.316262\n",
       "Half Bath            0.284871\n",
       "Bsmt Full Bath       0.276258\n",
       "2nd Flr SF           0.269601\n",
       "Lot Area             0.267520\n",
       "Bsmt Unf SF          0.182751\n",
       "Bedroom AbvGr        0.143916\n",
       "Enclosed Porch       0.128685\n",
       "Kitchen AbvGr        0.119760\n",
       "Screen Porch         0.112280\n",
       "Overall Cond         0.101540\n",
       "Pool Area            0.068438\n",
       "Low Qual Fin SF      0.037629\n",
       "Bsmt Half Bath       0.035875\n",
       "3Ssn Porch           0.032268\n",
       "Misc Val             0.019273\n",
       "BsmtFin SF 2         0.006127\n",
       "Name: SalePrice, dtype: float64"
      ]
     },
     "execution_count": 25,
     "metadata": {},
     "output_type": "execute_result"
    }
   ],
   "source": [
    "# Let's look at correlation coefficients\n",
    "corr_coefs = data_clean.select_dtypes(include=[np.number]).corr()['SalePrice'].abs().sort_values(ascending = False)\n",
    "corr_coefs"
   ]
  },
  {
   "cell_type": "code",
   "execution_count": 26,
   "metadata": {},
   "outputs": [
    {
     "name": "stdout",
     "output_type": "stream",
     "text": [
      "(2927, 58)\n",
      "(2927, 40)\n"
     ]
    }
   ],
   "source": [
    "# Drop columns with less than 0.4 correlation with SalePrice\n",
    "data_features = data_clean.drop(corr_coefs[corr_coefs < 0.4].index, axis=1)\n",
    "print(data_clean.shape)\n",
    "print(data_features.shape)"
   ]
  },
  {
   "cell_type": "markdown",
   "metadata": {},
   "source": [
    " next we want to dummy code certain object columns, but we don't convert columns that:\n",
    "- object columns have many unique values\n",
    "- object columns have a few unique values but more than 95% of the values in the column belong to a specific category."
   ]
  },
  {
   "cell_type": "code",
   "execution_count": 27,
   "metadata": {},
   "outputs": [
    {
     "name": "stdout",
     "output_type": "stream",
     "text": [
      "RL         2270\n",
      "RM          462\n",
      "FV          139\n",
      "RH           27\n",
      "C (all)      25\n",
      "A (agr)       2\n",
      "I (all)       2\n",
      "Name: MS Zoning, dtype: int64\n",
      "Reg    1859\n",
      "IR1     976\n",
      "IR2      76\n",
      "IR3      16\n",
      "Name: Lot Shape, dtype: int64\n",
      "Lvl    2632\n",
      "HLS     120\n",
      "Bnk     115\n",
      "Low      60\n",
      "Name: Land Contour, dtype: int64\n",
      "Inside     2138\n",
      "Corner      510\n",
      "CulDSac     180\n",
      "FR2          85\n",
      "FR3          14\n",
      "Name: Lot Config, dtype: int64\n",
      "Norm      2520\n",
      "Feedr      164\n",
      "Artery      92\n",
      "RRAn        50\n",
      "PosN        38\n",
      "RRAe        28\n",
      "PosA        20\n",
      "RRNn         9\n",
      "RRNe         6\n",
      "Name: Condition 1, dtype: int64\n",
      "1Fam      2422\n",
      "TwnhsE     233\n",
      "Duplex     109\n",
      "Twnhs      101\n",
      "2fmCon      62\n",
      "Name: Bldg Type, dtype: int64\n",
      "1Story    1480\n",
      "2Story     871\n",
      "1.5Fin     314\n",
      "SLvl       128\n",
      "SFoyer      83\n",
      "2.5Unf      24\n",
      "1.5Unf      19\n",
      "2.5Fin       8\n",
      "Name: House Style, dtype: int64\n",
      "Gable      2320\n",
      "Hip         549\n",
      "Gambrel      22\n",
      "Flat         20\n",
      "Mansard      11\n",
      "Shed          5\n",
      "Name: Roof Style, dtype: int64\n",
      "TA    1799\n",
      "Gd     988\n",
      "Ex     105\n",
      "Fa      35\n",
      "Name: Exter Qual, dtype: int64\n",
      "TA    2546\n",
      "Gd     299\n",
      "Fa      67\n",
      "Ex      12\n",
      "Po       3\n",
      "Name: Exter Cond, dtype: int64\n",
      "PConc     1307\n",
      "CBlock    1244\n",
      "BrkTil     311\n",
      "Slab        49\n",
      "Stone       11\n",
      "Wood         5\n",
      "Name: Foundation, dtype: int64\n",
      "Ex    1492\n",
      "TA     864\n",
      "Gd     476\n",
      "Fa      92\n",
      "Po       3\n",
      "Name: Heating QC, dtype: int64\n",
      "Y    2731\n",
      "N     196\n",
      "Name: Central Air, dtype: int64\n",
      "TA    1494\n",
      "Gd    1159\n",
      "Ex     203\n",
      "Fa      70\n",
      "Po       1\n",
      "Name: Kitchen Qual, dtype: int64\n",
      "Typ     2725\n",
      "Min2      70\n",
      "Min1      65\n",
      "Mod       35\n",
      "Maj1      19\n",
      "Maj2       9\n",
      "Sev        2\n",
      "Sal        2\n",
      "Name: Functional, dtype: int64\n",
      "Y    2649\n",
      "N     216\n",
      "P      62\n",
      "Name: Paved Drive, dtype: int64\n"
     ]
    }
   ],
   "source": [
    "# find object columns we want to convert to dummy columns\n",
    "object_cols = data_features.select_dtypes('object').columns.tolist()\n",
    "object_dummy_cols = []\n",
    "for col in object_cols:\n",
    "    total_len = len(data_features)\n",
    "    col_summary = data_features[col].value_counts()\n",
    "    if len(col_summary) <= 10:\n",
    "        if col_summary[0] < 0.95*total_len:\n",
    "            print(data_features[col].value_counts())\n",
    "            object_dummy_cols.append(col)"
   ]
  },
  {
   "cell_type": "code",
   "execution_count": 28,
   "metadata": {},
   "outputs": [
    {
     "name": "stdout",
     "output_type": "stream",
     "text": [
      "(2927, 30)\n"
     ]
    }
   ],
   "source": [
    "# drop text columns that we will not convert to dummy columns\n",
    "object_not_dummy_cols = list(set(object_cols) - set(object_dummy_cols))\n",
    "data_features = data_features.drop(object_not_dummy_cols, axis = 1)\n",
    "print(data_features.shape)"
   ]
  },
  {
   "cell_type": "code",
   "execution_count": 29,
   "metadata": {},
   "outputs": [
    {
     "name": "stdout",
     "output_type": "stream",
     "text": [
      "(2927, 100)\n"
     ]
    }
   ],
   "source": [
    "for col in object_dummy_cols:\n",
    "    data_features[col] = data_features[col].astype('category')\n",
    "    \n",
    "# create dummy columns and add to the dataframe\n",
    "data_features = pd.concat([\n",
    "    data_features,\n",
    "    pd.get_dummies(data_features[object_dummy_cols])\n",
    "], axis = 1)\n",
    "# drop original text columns\n",
    "data_features = data_features.drop(object_dummy_cols, axis = 1)\n",
    "print(data_features.shape)"
   ]
  },
  {
   "cell_type": "code",
   "execution_count": 30,
   "metadata": {},
   "outputs": [],
   "source": [
    "# Let's summarize all above feature selection steps and update our select_featrues() function.\n",
    "def select_features(df, coef_threshold=0.4, uniq_threshold=10):\n",
    "    corr_coefs = df.select_dtypes(include=[np.number]).corr()['SalePrice'].abs()\n",
    "    # Drop columns with less than \"coef_threshold\" correlation with SalePrice\n",
    "    df = df.drop(corr_coefs[corr_coefs < coef_threshold].index, axis=1)\n",
    "    # Find object columns with not too many unique values\n",
    "    # and no dominant value for that column\n",
    "    object_cols = df.select_dtypes('object').columns.tolist()\n",
    "    object_dummy_cols = []\n",
    "    for col in object_cols:\n",
    "        total_len = len(df)\n",
    "        col_summary = df[col].value_counts()\n",
    "        if len(col_summary) <= uniq_threshold:\n",
    "            if col_summary[0] < 0.95*total_len:\n",
    "                object_dummy_cols.append(col)\n",
    "    object_not_dummy_cols = list(set(object_cols) - set(object_dummy_cols))\n",
    "    # drop columns with too many unique values or dominant value in the column\n",
    "    df = df.drop(object_not_dummy_cols, axis = 1)\n",
    "    # convert object columns to categorical features\n",
    "    df = pd.concat([df,pd.get_dummies(df[object_dummy_cols])],axis = 1)\n",
    "    # drop original object columns\n",
    "    df = df.drop(object_dummy_cols, axis = 1)\n",
    "    return df"
   ]
  },
  {
   "cell_type": "code",
   "execution_count": 31,
   "metadata": {},
   "outputs": [
    {
     "data": {
      "text/plain": [
       "32898.3275749655"
      ]
     },
     "execution_count": 31,
     "metadata": {},
     "output_type": "execute_result"
    }
   ],
   "source": [
    "transform_data = transform_features(data)\n",
    "filtered_data = select_features(transform_data)\n",
    "rmse = train_and_test(filtered_data)\n",
    "rmse"
   ]
  },
  {
   "cell_type": "code",
   "execution_count": 32,
   "metadata": {},
   "outputs": [
    {
     "name": "stdout",
     "output_type": "stream",
     "text": [
      "(2930, 82)\n",
      "(2927, 58)\n",
      "(2927, 100)\n"
     ]
    }
   ],
   "source": [
    "print(data.shape)\n",
    "print(transform_data.shape)\n",
    "print(filtered_data.shape)"
   ]
  },
  {
   "cell_type": "markdown",
   "metadata": {},
   "source": [
    "## Train and Test\n",
    "\n",
    "we will update train_and_test() function to accept a parameter k that controls the type of cross validation that occurs:\n",
    "- when k=0, perform holdout validation\n",
    "- when k=1, perform simple cross validation\n",
    "- when k>1, implement k-fold cross validation using k folds"
   ]
  },
  {
   "cell_type": "code",
   "execution_count": 33,
   "metadata": {},
   "outputs": [],
   "source": [
    "def train_and_test(df, k):\n",
    "    # get features and target from data\n",
    "    numeric_data = df.select_dtypes(include = np.number)\n",
    "    features = numeric_data.columns.drop(['SalePrice'])\n",
    "    target = 'SalePrice'\n",
    "    \n",
    "    # when k=0 perform holdout validation\n",
    "    if k == 0:\n",
    "        train = df[:1460]\n",
    "        test = df[1460:]\n",
    "        Lr = linear_model.LinearRegression()\n",
    "        Lr.fit(train[features], train[target])\n",
    "        test_predictions = Lr.predict(test[features])\n",
    "        test_mse = mean_squared_error(test_predictions, test[target]) \n",
    "        test_rmse = np.sqrt(test_mse)\n",
    "        \n",
    "    # when k=1 perform simple cross validation    \n",
    "    if k == 1:\n",
    "        # \n",
    "        ## can also use shuffled_df = df.sample(frac=1, )\n",
    "        new_orders = np.random.permutation(df.shape[0])\n",
    "        fold_one = df.loc[new_orders[:1460]].copy()\n",
    "        fold_two = df.loc[new_orders[1460:]].copy()\n",
    "        \n",
    "        Lr = linear_model.LinearRegression()\n",
    "        Lr.fit(fold_one[features], fold_one[target])\n",
    "        fold_two_predictions = Lr.predict(fold_two[features])\n",
    "        fold_two_mse = mean_squared_error(fold_two_predictions, fold_two[target]) \n",
    "        fold_two_rmse = np.sqrt(fold_two_mse)\n",
    "        \n",
    "        Lr = linear_model.LinearRegression()\n",
    "        Lr.fit(fold_two[features], fold_two[target])\n",
    "        fold_one_predictions = Lr.predict(fold_one[features])\n",
    "        fold_one_mse = mean_squared_error(fold_one_predictions, fold_one[target]) \n",
    "        fold_one_rmse = np.sqrt(fold_one_mse)\n",
    "        \n",
    "        test_rmse = average(fold_two_rmse, fold_one_rmse)\n",
    "        \n",
    "    \n",
    "    # whe k > 1 perfome k-fold cross validation\n",
    "    if k > 1:\n",
    "        kf = KFold(k, shuffle = True, random_state = 1)\n",
    "        Lr = linear_model.LinearRegression()\n",
    "        mses = cross_val_score(Lr, df[features], df[target], scoring = 'neg_mean_squared_error', cv = kf)\n",
    "        rmses = np.sqrt(np.absolute(mses))\n",
    "        test_rmse = np.mean(rmses)\n",
    "        \n",
    "    return test_rmse"
   ]
  },
  {
   "cell_type": "code",
   "execution_count": 34,
   "metadata": {},
   "outputs": [
    {
     "data": {
      "text/plain": [
       "32898.32757496559"
      ]
     },
     "execution_count": 34,
     "metadata": {},
     "output_type": "execute_result"
    }
   ],
   "source": [
    "# when k = 0, it is just the model we got earlier, after updating select_features().\n",
    "transform_data = transform_features(data)\n",
    "filtered_data = select_features(transform_data)\n",
    "rmse = train_and_test(filtered_data, k = 0)\n",
    "rmse"
   ]
  },
  {
   "cell_type": "code",
   "execution_count": 35,
   "metadata": {},
   "outputs": [
    {
     "data": {
      "text/plain": [
       "29030.02844934283"
      ]
     },
     "execution_count": 35,
     "metadata": {},
     "output_type": "execute_result"
    }
   ],
   "source": [
    "# let's try k = 4, 4-fold cross validation is used.\n",
    "transform_data = transform_features(data)\n",
    "filtered_data = select_features(transform_data)\n",
    "rmse = train_and_test(filtered_data, k = 4)\n",
    "rmse"
   ]
  },
  {
   "cell_type": "markdown",
   "metadata": {},
   "source": [
    "Through the pipeline, we have improved our model from a simple linear regression model (with rmse 57088) to a multiple linear regression model (with rmse 29030)."
   ]
  },
  {
   "cell_type": "code",
   "execution_count": null,
   "metadata": {},
   "outputs": [],
   "source": []
  }
 ],
 "metadata": {
  "kernelspec": {
   "display_name": "Python 2",
   "language": "python",
   "name": "python2"
  },
  "language_info": {
   "codemirror_mode": {
    "name": "ipython",
    "version": 2
   },
   "file_extension": ".py",
   "mimetype": "text/x-python",
   "name": "python",
   "nbconvert_exporter": "python",
   "pygments_lexer": "ipython2",
   "version": "2.7.15"
  }
 },
 "nbformat": 4,
 "nbformat_minor": 2
}
